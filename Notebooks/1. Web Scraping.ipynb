{
 "cells": [
  {
   "cell_type": "markdown",
   "metadata": {},
   "source": [
    "## 1. Web Scraping Player Data from FUTBIN\n",
    "\n",
    "FUTBIN is a popular website and mobile app that provides tools and resources for players of the Ultimate Team mode in FIFA 23 and other versions of the game. The website offers a comprehensive database of player cards, including their stats, ratings, and market values, as well as real-time updates on the prices of different cards in the game's virtual marketplace"
   ]
  },
  {
   "cell_type": "markdown",
   "metadata": {},
   "source": [
    "### Import Libraries"
   ]
  },
  {
   "cell_type": "code",
   "execution_count": 1,
   "metadata": {},
   "outputs": [],
   "source": [
    "import pandas as pd\n",
    "\n",
    "import requests\n",
    "from bs4 import BeautifulSoup\n",
    "\n",
    "from time import sleep"
   ]
  },
  {
   "cell_type": "markdown",
   "metadata": {},
   "source": [
    "### Web Scraping Player Data from Page 1"
   ]
  },
  {
   "cell_type": "code",
   "execution_count": 2,
   "metadata": {},
   "outputs": [],
   "source": [
    "# Define url and user-agent\n",
    "url = 'https://www.futbin.com/players?page=1'\n",
    "user_agent = 'Mozilla/5.0 (Windows NT 10.0; Win64; x64) AppleWebKit/537.36 (KHTML, like Gecko) Chrome/112.0.0.0 Safari/537.36'\n",
    "\n",
    "# Set the user agent string in the headers\n",
    "headers = {\n",
    "    'User-Agent': user_agent\n",
    "}\n",
    "\n",
    "# Make the request using the headers\n",
    "response = requests.get(url, headers=headers)\n",
    "\n",
    "# Parse the HTML content using Beautiful Soup\n",
    "soup = BeautifulSoup(response.content, 'html.parser')"
   ]
  },
  {
   "cell_type": "code",
   "execution_count": 3,
   "metadata": {},
   "outputs": [
    {
     "data": {
      "text/plain": [
       "['',\n",
       " 'Pelé',\n",
       " '98',\n",
       " 'CAM\\nCF,ST',\n",
       " 'Icon\\n\\n\\r\\n                                                    Explosive',\n",
       " '4.05M \\n\\n\\n                                                                2.51%',\n",
       " '5',\n",
       " '4',\n",
       " 'H \\\\ M',\n",
       " '95',\n",
       " '96',\n",
       " '93',\n",
       " '96',\n",
       " '60',\n",
       " '76',\n",
       " '173cm | 5\\'8\"\\n  Unique  (70kg)',\n",
       " '3782',\n",
       " '516',\n",
       " '2513']"
      ]
     },
     "execution_count": 3,
     "metadata": {},
     "output_type": "execute_result"
    }
   ],
   "source": [
    "# Find stats for an example player\n",
    "example = soup.find_all('tr')[0]\n",
    "\n",
    "# Extract text from columns for player row\n",
    "example_stats = [col.text.strip() for col in example.find_all('td')]\n",
    "example_stats\n"
   ]
  },
  {
   "cell_type": "markdown",
   "metadata": {},
   "source": [
    "This data is missing the player's team, country and league which are in the form of hyperlinks. Therefore I will build a function to extract these values"
   ]
  },
  {
   "cell_type": "code",
   "execution_count": 4,
   "metadata": {},
   "outputs": [
    {
     "data": {
      "text/plain": [
       "['FUT ICONS', 'Brazil', 'Icons']"
      ]
     },
     "execution_count": 4,
     "metadata": {},
     "output_type": "execute_result"
    }
   ],
   "source": [
    "def get_loc_attrs(row):\n",
    "    attrs = []\n",
    "    first_col = row.find_all('td')[1]\n",
    "    for link in first_col.find_all('a')[1:4]:\n",
    "        attr = link.get('data-original-title')\n",
    "        attrs.append(attr)\n",
    "    return attrs\n",
    "    \n",
    "# Test on example row\n",
    "get_loc_attrs(example)"
   ]
  },
  {
   "cell_type": "markdown",
   "metadata": {},
   "source": [
    "I then build a function to extract the table headers:"
   ]
  },
  {
   "cell_type": "code",
   "execution_count": 5,
   "metadata": {},
   "outputs": [
    {
     "data": {
      "text/plain": [
       "['Name',\n",
       " 'Rating',\n",
       " 'Position',\n",
       " 'Version',\n",
       " 'Price',\n",
       " 'Skills',\n",
       " 'Weak Foot',\n",
       " 'Attack \\\\ Defense',\n",
       " 'Pace',\n",
       " 'Shooting',\n",
       " 'Passing',\n",
       " 'Dribbling',\n",
       " 'Defending',\n",
       " 'Physicality',\n",
       " 'Height',\n",
       " 'Popularity',\n",
       " 'Base Stats',\n",
       " 'In Game Stats',\n",
       " 'Team',\n",
       " 'Nation',\n",
       " 'League']"
      ]
     },
     "execution_count": 5,
     "metadata": {},
     "output_type": "execute_result"
    }
   ],
   "source": [
    "def get_table_headers(soup):\n",
    "    headers = []\n",
    "    for header in soup.find_all('th')[2:]: # Start from third header as first two were in a different format\n",
    "        header_title = header.find('a').get('data-original-title')\n",
    "        if header_title[:8] == 'Order By': # Remove 'Order By' from header\n",
    "            header_title = header_title[9:]\n",
    "        headers.append(header_title)\n",
    "\n",
    "    headers.insert(0, 'Name') # Add 'Name' to start of list as this wasn't added above\n",
    "    headers.extend(['Team', 'Nation', 'League']) # Add other attributes not picked up above\n",
    "    \n",
    "\n",
    "    return headers\n",
    "\n",
    "get_table_headers(soup)"
   ]
  },
  {
   "cell_type": "markdown",
   "metadata": {},
   "source": [
    "Next I build a function to create a dataframe of player attributes from the current page:"
   ]
  },
  {
   "cell_type": "code",
   "execution_count": 6,
   "metadata": {},
   "outputs": [],
   "source": [
    "def players_df_from_onepage(soup):\n",
    "    # Create an empty list to store all the player attributes\n",
    "    all_players = []\n",
    "    \n",
    "    # Loop through each row in the table on the page\n",
    "    for row in soup.find_all('tr'):\n",
    "        cols = row.find_all('td')\n",
    "        # Check if there are at least 2 columns (to skip blank lines or ads)\n",
    "        if len(cols) > 1:\n",
    "            # Extract the location attributes for the player from the row\n",
    "            loc_attrs = get_loc_attrs(row)\n",
    "            # Extract the other player attributes from the columns in the row\n",
    "            other_attrs = [col.text.strip() for col in cols][1:] # Ignore first blank column\n",
    "            # Combine and add to empty list\n",
    "            player_attrs = other_attrs + loc_attrs\n",
    "            all_players.append(player_attrs)\n",
    "\n",
    "    # Get the table headers from the page\n",
    "    headers = get_table_headers(soup)\n",
    "\n",
    "    # Convert the list of player attributes to a pandas dataframe\n",
    "    df = pd.DataFrame(all_players, columns=headers)\n",
    "    \n",
    "    # Rename the 'Attack \\ Defense' column to 'Work Rate (Attack \\ Defense)'\n",
    "    df.rename(columns={'Attack \\ Defense' : 'Work Rate (Attack \\ Defense)'}, inplace=True)\n",
    "    \n",
    "    # Return the dataframe containing all the player attributes\n",
    "    return df\n"
   ]
  },
  {
   "cell_type": "code",
   "execution_count": 7,
   "metadata": {},
   "outputs": [
    {
     "data": {
      "text/html": [
       "<div>\n",
       "<style scoped>\n",
       "    .dataframe tbody tr th:only-of-type {\n",
       "        vertical-align: middle;\n",
       "    }\n",
       "\n",
       "    .dataframe tbody tr th {\n",
       "        vertical-align: top;\n",
       "    }\n",
       "\n",
       "    .dataframe thead th {\n",
       "        text-align: right;\n",
       "    }\n",
       "</style>\n",
       "<table border=\"1\" class=\"dataframe\">\n",
       "  <thead>\n",
       "    <tr style=\"text-align: right;\">\n",
       "      <th></th>\n",
       "      <th>Name</th>\n",
       "      <th>Rating</th>\n",
       "      <th>Position</th>\n",
       "      <th>Version</th>\n",
       "      <th>Price</th>\n",
       "      <th>Skills</th>\n",
       "      <th>Weak Foot</th>\n",
       "      <th>Work Rate (Attack \\ Defense)</th>\n",
       "      <th>Pace</th>\n",
       "      <th>Shooting</th>\n",
       "      <th>...</th>\n",
       "      <th>Dribbling</th>\n",
       "      <th>Defending</th>\n",
       "      <th>Physicality</th>\n",
       "      <th>Height</th>\n",
       "      <th>Popularity</th>\n",
       "      <th>Base Stats</th>\n",
       "      <th>In Game Stats</th>\n",
       "      <th>Team</th>\n",
       "      <th>Nation</th>\n",
       "      <th>League</th>\n",
       "    </tr>\n",
       "  </thead>\n",
       "  <tbody>\n",
       "    <tr>\n",
       "      <th>0</th>\n",
       "      <td>Pelé</td>\n",
       "      <td>98</td>\n",
       "      <td>CAM\\nCF,ST</td>\n",
       "      <td>Icon\\n\\n\\r\\n                                  ...</td>\n",
       "      <td>4.05M \\n\\n\\n                                  ...</td>\n",
       "      <td>5</td>\n",
       "      <td>4</td>\n",
       "      <td>H \\ M</td>\n",
       "      <td>95</td>\n",
       "      <td>96</td>\n",
       "      <td>...</td>\n",
       "      <td>96</td>\n",
       "      <td>60</td>\n",
       "      <td>76</td>\n",
       "      <td>173cm | 5'8\"\\n  Unique  (70kg)</td>\n",
       "      <td>3782</td>\n",
       "      <td>516</td>\n",
       "      <td>2513</td>\n",
       "      <td>FUT ICONS</td>\n",
       "      <td>Brazil</td>\n",
       "      <td>Icons</td>\n",
       "    </tr>\n",
       "    <tr>\n",
       "      <th>1</th>\n",
       "      <td>Lionel Messi</td>\n",
       "      <td>98</td>\n",
       "      <td>RW\\nRM</td>\n",
       "      <td>TOTY\\n\\n\\r\\n                                  ...</td>\n",
       "      <td>5.1M \\n\\n\\n                                   ...</td>\n",
       "      <td>4</td>\n",
       "      <td>4</td>\n",
       "      <td>H \\ L</td>\n",
       "      <td>93</td>\n",
       "      <td>98</td>\n",
       "      <td>...</td>\n",
       "      <td>99</td>\n",
       "      <td>40</td>\n",
       "      <td>77</td>\n",
       "      <td>169cm | 5'7\"\\n  Messi  (67kg)</td>\n",
       "      <td>5398</td>\n",
       "      <td>504</td>\n",
       "      <td>2469</td>\n",
       "      <td>Paris SG</td>\n",
       "      <td>Argentina</td>\n",
       "      <td>Ligue 1</td>\n",
       "    </tr>\n",
       "    <tr>\n",
       "      <th>2</th>\n",
       "      <td>Karim Benzema</td>\n",
       "      <td>97</td>\n",
       "      <td>CF\\nST</td>\n",
       "      <td>TOTY\\n\\n\\r\\n                                  ...</td>\n",
       "      <td>2.38M \\n\\n\\n                                  ...</td>\n",
       "      <td>4</td>\n",
       "      <td>5</td>\n",
       "      <td>H \\ M</td>\n",
       "      <td>92</td>\n",
       "      <td>97</td>\n",
       "      <td>...</td>\n",
       "      <td>94</td>\n",
       "      <td>45</td>\n",
       "      <td>90</td>\n",
       "      <td>185cm | 6'1\"\\n  Average  (81kg)</td>\n",
       "      <td>4363</td>\n",
       "      <td>508</td>\n",
       "      <td>2449</td>\n",
       "      <td>Real Madrid</td>\n",
       "      <td>France</td>\n",
       "      <td>LaLiga Santander</td>\n",
       "    </tr>\n",
       "    <tr>\n",
       "      <th>3</th>\n",
       "      <td>Kylian Mbappé</td>\n",
       "      <td>97</td>\n",
       "      <td>ST\\nCF,LW</td>\n",
       "      <td>TOTY\\n\\n\\r\\n                                  ...</td>\n",
       "      <td>12M \\n\\n\\n                                    ...</td>\n",
       "      <td>5</td>\n",
       "      <td>4</td>\n",
       "      <td>H \\ L</td>\n",
       "      <td>99</td>\n",
       "      <td>96</td>\n",
       "      <td>...</td>\n",
       "      <td>98</td>\n",
       "      <td>44</td>\n",
       "      <td>87</td>\n",
       "      <td>182cm | 6'0\"\\n  Unique  (73kg)</td>\n",
       "      <td>3433</td>\n",
       "      <td>512</td>\n",
       "      <td>2455</td>\n",
       "      <td>Paris SG</td>\n",
       "      <td>France</td>\n",
       "      <td>Ligue 1</td>\n",
       "    </tr>\n",
       "    <tr>\n",
       "      <th>4</th>\n",
       "      <td>Kevin De Bruyne</td>\n",
       "      <td>97</td>\n",
       "      <td>CM\\nCAM</td>\n",
       "      <td>TOTY\\n\\n\\r\\n                                  ...</td>\n",
       "      <td>2.46M \\n\\n\\n                                  ...</td>\n",
       "      <td>4</td>\n",
       "      <td>5</td>\n",
       "      <td>H \\ H</td>\n",
       "      <td>85</td>\n",
       "      <td>94</td>\n",
       "      <td>...</td>\n",
       "      <td>94</td>\n",
       "      <td>81</td>\n",
       "      <td>86</td>\n",
       "      <td>181cm | 5'11\"\\n  Unique  (70kg)</td>\n",
       "      <td>2252</td>\n",
       "      <td>538</td>\n",
       "      <td>2593</td>\n",
       "      <td>Manchester City</td>\n",
       "      <td>Belgium</td>\n",
       "      <td>Premier League</td>\n",
       "    </tr>\n",
       "  </tbody>\n",
       "</table>\n",
       "<p>5 rows × 21 columns</p>\n",
       "</div>"
      ],
      "text/plain": [
       "              Name Rating    Position   \n",
       "0             Pelé     98  CAM\\nCF,ST  \\\n",
       "1     Lionel Messi     98      RW\\nRM   \n",
       "2    Karim Benzema     97      CF\\nST   \n",
       "3    Kylian Mbappé     97   ST\\nCF,LW   \n",
       "4  Kevin De Bruyne     97     CM\\nCAM   \n",
       "\n",
       "                                             Version   \n",
       "0  Icon\\n\\n\\r\\n                                  ...  \\\n",
       "1  TOTY\\n\\n\\r\\n                                  ...   \n",
       "2  TOTY\\n\\n\\r\\n                                  ...   \n",
       "3  TOTY\\n\\n\\r\\n                                  ...   \n",
       "4  TOTY\\n\\n\\r\\n                                  ...   \n",
       "\n",
       "                                               Price Skills Weak Foot   \n",
       "0  4.05M \\n\\n\\n                                  ...      5         4  \\\n",
       "1  5.1M \\n\\n\\n                                   ...      4         4   \n",
       "2  2.38M \\n\\n\\n                                  ...      4         5   \n",
       "3  12M \\n\\n\\n                                    ...      5         4   \n",
       "4  2.46M \\n\\n\\n                                  ...      4         5   \n",
       "\n",
       "  Work Rate (Attack \\ Defense) Pace Shooting  ... Dribbling Defending   \n",
       "0                        H \\ M   95       96  ...        96        60  \\\n",
       "1                        H \\ L   93       98  ...        99        40   \n",
       "2                        H \\ M   92       97  ...        94        45   \n",
       "3                        H \\ L   99       96  ...        98        44   \n",
       "4                        H \\ H   85       94  ...        94        81   \n",
       "\n",
       "  Physicality                           Height Popularity Base Stats   \n",
       "0          76   173cm | 5'8\"\\n  Unique  (70kg)       3782        516  \\\n",
       "1          77    169cm | 5'7\"\\n  Messi  (67kg)       5398        504   \n",
       "2          90  185cm | 6'1\"\\n  Average  (81kg)       4363        508   \n",
       "3          87   182cm | 6'0\"\\n  Unique  (73kg)       3433        512   \n",
       "4          86  181cm | 5'11\"\\n  Unique  (70kg)       2252        538   \n",
       "\n",
       "  In Game Stats             Team     Nation            League  \n",
       "0          2513        FUT ICONS     Brazil             Icons  \n",
       "1          2469         Paris SG  Argentina           Ligue 1  \n",
       "2          2449      Real Madrid     France  LaLiga Santander  \n",
       "3          2455         Paris SG     France           Ligue 1  \n",
       "4          2593  Manchester City    Belgium    Premier League  \n",
       "\n",
       "[5 rows x 21 columns]"
      ]
     },
     "execution_count": 7,
     "metadata": {},
     "output_type": "execute_result"
    }
   ],
   "source": [
    "df = players_df_from_onepage(soup)\n",
    "df.head()"
   ]
  },
  {
   "cell_type": "markdown",
   "metadata": {},
   "source": [
    "### Web Scraping Player Data from All Pages"
   ]
  },
  {
   "cell_type": "code",
   "execution_count": 8,
   "metadata": {},
   "outputs": [
    {
     "name": "stdout",
     "output_type": "stream",
     "text": [
      "698\n"
     ]
    }
   ],
   "source": [
    "# Code to find the last page by web sraping the page navigation buttons below the table\n",
    "last_page = int(soup.find_all('li', class_='page-item')[-2].find('a').text) \n",
    "print(last_page)"
   ]
  },
  {
   "cell_type": "markdown",
   "metadata": {},
   "source": [
    "First I combine the steps from the previous section to create a function that creates a DataFrame for players on any given page:"
   ]
  },
  {
   "cell_type": "code",
   "execution_count": 9,
   "metadata": {},
   "outputs": [],
   "source": [
    "def player_df_from_anypage(page_number):\n",
    "    # Define url and user-agent\n",
    "    url = 'https://www.futbin.com/players?page=' + str(page_number)\n",
    "    user_agent = 'Mozilla/5.0 (Windows NT 10.0; Win64; x64) AppleWebKit/537.36 (KHTML, like Gecko) Chrome/112.0.0.0 Safari/537.36'\n",
    "\n",
    "    # Set the user agent string in the headers\n",
    "    headers = {\n",
    "        'User-Agent': user_agent\n",
    "    }\n",
    "\n",
    "    # Make the request using the headers\n",
    "    response = requests.get(url, headers=headers)\n",
    "\n",
    "    # Parse the HTML content using Beautiful Soup\n",
    "    soup = BeautifulSoup(response.content, 'html.parser')\n",
    "\n",
    "    # Call the previously defined function to create a DataFrame\n",
    "    df = players_df_from_onepage(soup)\n",
    "\n",
    "    # Return the dataframe containing all the player attributes\n",
    "    return df"
   ]
  },
  {
   "cell_type": "markdown",
   "metadata": {},
   "source": [
    "Next, I'll create a new function that iterates through each page of data, calls the `players_df_from_onepage` function for each page, and combines the resulting dataframes to create a complete dataset."
   ]
  },
  {
   "cell_type": "code",
   "execution_count": 10,
   "metadata": {},
   "outputs": [],
   "source": [
    "def get_dataset():\n",
    "    \n",
    "    # Define url and user-agent\n",
    "    url = 'https://www.futbin.com/players?page=1'\n",
    "    user_agent = 'Mozilla/5.0 (Windows NT 10.0; Win64; x64) AppleWebKit/537.36 (KHTML, like Gecko) Chrome/112.0.0.0 Safari/537.36'\n",
    "    # Set the user agent string in the headers\n",
    "    headers = {\n",
    "        'User-Agent': user_agent\n",
    "    }\n",
    "    # Make the request using the headers\n",
    "    response = requests.get(url, headers=headers)\n",
    "    # Parse the HTML content using Beautiful Soup\n",
    "    soup = BeautifulSoup(response.content, 'html.parser')\n",
    "\n",
    "    # Get the last page number\n",
    "    last_page = int(soup.find_all('li', class_='page-item')[-2].find('a').text) \n",
    "\n",
    "    try:\n",
    "        # create an empty pandas DataFrame to hold all the scraped data\n",
    "        all_players = pd.DataFrame()\n",
    "        \n",
    "        # Loop through all pages to get all player data for that page and add to above dataframe \n",
    "        for i in range(1,last_page+1):\n",
    "            df_i = player_df_from_anypage(i)\n",
    "            all_players = pd.concat([all_players, df_i])\n",
    "            \n",
    "            # Sleep for 15 seconds every six requests to avoid too many requests\n",
    "            if (i) % 6 == 0:\n",
    "                sleep(15)        \n",
    "            if i % 50 == 0:\n",
    "                print(f'Page {i} scraped, {all_players.shape[0]} rows added')\n",
    "    \n",
    "    # If an error occurs, sleep for 30 seconds before continuing\n",
    "    except requests.exceptions.RequestException as err:\n",
    "            print(err)\n",
    "            sleep(30)\n",
    "    print('All pages scraped')\n",
    "\n",
    "    return all_players"
   ]
  },
  {
   "cell_type": "code",
   "execution_count": 11,
   "metadata": {},
   "outputs": [
    {
     "name": "stdout",
     "output_type": "stream",
     "text": [
      "Page 50 scraped, 1500 rows added\n",
      "Page 100 scraped, 3000 rows added\n",
      "Page 150 scraped, 4500 rows added\n",
      "Page 200 scraped, 6000 rows added\n",
      "Page 250 scraped, 7500 rows added\n",
      "Page 300 scraped, 9000 rows added\n",
      "Page 350 scraped, 10500 rows added\n",
      "Page 400 scraped, 12000 rows added\n",
      "Page 450 scraped, 13500 rows added\n",
      "Page 500 scraped, 15000 rows added\n",
      "Page 550 scraped, 16500 rows added\n",
      "Page 600 scraped, 18000 rows added\n",
      "Page 650 scraped, 19500 rows added\n",
      "All pages scraped\n"
     ]
    }
   ],
   "source": [
    "player_dataset = get_dataset()"
   ]
  },
  {
   "cell_type": "code",
   "execution_count": 12,
   "metadata": {},
   "outputs": [],
   "source": [
    "player_dataset.to_csv(r'datasets\\player_dataset.csv', index=False)"
   ]
  },
  {
   "cell_type": "code",
   "execution_count": null,
   "metadata": {},
   "outputs": [],
   "source": []
  },
  {
   "cell_type": "code",
   "execution_count": null,
   "metadata": {},
   "outputs": [],
   "source": []
  }
 ],
 "metadata": {
  "kernelspec": {
   "display_name": "Python 3",
   "language": "python",
   "name": "python3"
  },
  "language_info": {
   "codemirror_mode": {
    "name": "ipython",
    "version": 3
   },
   "file_extension": ".py",
   "mimetype": "text/x-python",
   "name": "python",
   "nbconvert_exporter": "python",
   "pygments_lexer": "ipython3",
   "version": "3.11.3"
  },
  "orig_nbformat": 4
 },
 "nbformat": 4,
 "nbformat_minor": 2
}
