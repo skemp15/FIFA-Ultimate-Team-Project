{
 "cells": [
  {
   "cell_type": "markdown",
   "metadata": {},
   "source": [
    "# 7. Conclusion"
   ]
  },
  {
   "cell_type": "markdown",
   "metadata": {},
   "source": [
    "In conclusion, we built a regression model to predict FIFA Ultimate Team player marketplace prices. Unfortunately the model only performed moderately well with an R2 score of 0.54, and it tended to undervalue expensive players and overvalue cheaper players. The extremely skewed distribution of the target variable was likely one reason for the model underperforming, with the abundance of players on the lower end of the price spectrum very hard to predict. Player prices can also be randomly influenced by events outside the player's sttributes such as through real-world events or a current live squad building challenge that may require that player, so a better performing model would likely have to take events such as these into account. Additionally, one of the major factors likely resposible for a player's price is the rarity of that card in the marketplace, and unfortunately this was not some a piece of data that was readily available.\n",
    "\n",
    "The mean absolute error (MAE) of 176,508 coins suggests that the model is not precise enough to identify good value deals in the FIFA Ultimate Team player marketplace, given that this amount error margin is more than most players can afford. As a result, relying solely on this model to make buying or selling decisions in the marketplace would likely lead to poor outcomes. A better model with a lower MAE and a higher R-squared score would be necessary to accurately predict player prices and find good value deals.\n",
    "\n",
    "Despite the limitations, we can still draw some valuable insights from the model. For example, we found that player attributes such as overall rating, pace, and dribbling were strong predictors of player prices, which was to be expected given that these are generally the most sought after qualities in a player. Additionally, we can can see that playing for Paris Saint Germain can be highly correlated with the price of a player, which is likely due to this team containing several high-rated players with extremely large fanbases such as Lionel Messi, Kylian Mbappé and Neymar, so there an argument could be made that value in the marketplace can be better found outside of this team. \n",
    "\n",
    "In conclusion, while our model did not perform as well as we had hoped, we gained valuable experience in working with real-world datasets and learned some valuable insights into the FIFA Ultimate Team player marketplace. Future work could include obtaining data on card rarity to improve the model's accuracy and exploring other modeling techniques that may better capture the complexities of player pricing."
   ]
  }
 ],
 "metadata": {
  "language_info": {
   "name": "python"
  },
  "orig_nbformat": 4
 },
 "nbformat": 4,
 "nbformat_minor": 2
}
