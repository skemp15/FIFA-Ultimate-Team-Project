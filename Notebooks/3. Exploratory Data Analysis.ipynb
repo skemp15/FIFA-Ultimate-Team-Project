{
 "cells": [
  {
   "cell_type": "markdown",
   "metadata": {},
   "source": [
    "## 3. Exploratory Data Analysis"
   ]
  },
  {
   "attachments": {},
   "cell_type": "markdown",
   "metadata": {},
   "source": [
    "### Import Libraries"
   ]
  },
  {
   "cell_type": "code",
   "execution_count": null,
   "metadata": {},
   "outputs": [],
   "source": [
    "import pandas as pd\n",
    "from scipy.stats import boxcox\n",
    "\n",
    "import matplotlib.pyplot as plt\n",
    "import seaborn as sns\n",
    "\n",
    "from sklearn.preprocessing import OrdinalEncoder, OneHotEncoder\n",
    "from sklearn.model_selection import train_test_split\n",
    "\n",
    "import warnings\n",
    "\n",
    "warnings.filterwarnings(\"ignore\", category=UserWarning)"
   ]
  },
  {
   "cell_type": "code",
   "execution_count": null,
   "metadata": {},
   "outputs": [
    {
     "data": {
      "text/html": [
       "<div>\n",
       "<style scoped>\n",
       "    .dataframe tbody tr th:only-of-type {\n",
       "        vertical-align: middle;\n",
       "    }\n",
       "\n",
       "    .dataframe tbody tr th {\n",
       "        vertical-align: top;\n",
       "    }\n",
       "\n",
       "    .dataframe thead th {\n",
       "        text-align: right;\n",
       "    }\n",
       "</style>\n",
       "<table border=\"1\" class=\"dataframe\">\n",
       "  <thead>\n",
       "    <tr style=\"text-align: right;\">\n",
       "      <th></th>\n",
       "      <th>Rating</th>\n",
       "      <th>Price</th>\n",
       "      <th>Skills</th>\n",
       "      <th>Weak Foot</th>\n",
       "      <th>Pace</th>\n",
       "      <th>Shooting</th>\n",
       "      <th>Passing</th>\n",
       "      <th>Dribbling</th>\n",
       "      <th>Defending</th>\n",
       "      <th>Physicality</th>\n",
       "      <th>...</th>\n",
       "      <th>LM</th>\n",
       "      <th>RB</th>\n",
       "      <th>RM</th>\n",
       "      <th>ST</th>\n",
       "      <th>Card Type</th>\n",
       "      <th>Acceleration Type</th>\n",
       "      <th>Work Rate (Attack)</th>\n",
       "      <th>Work Rate (Defense)</th>\n",
       "      <th>Height (cm)</th>\n",
       "      <th>Weight (kg)</th>\n",
       "    </tr>\n",
       "  </thead>\n",
       "  <tbody>\n",
       "    <tr>\n",
       "      <th>0</th>\n",
       "      <td>98</td>\n",
       "      <td>4020000.0</td>\n",
       "      <td>5</td>\n",
       "      <td>4</td>\n",
       "      <td>95</td>\n",
       "      <td>96</td>\n",
       "      <td>93</td>\n",
       "      <td>96</td>\n",
       "      <td>60</td>\n",
       "      <td>76</td>\n",
       "      <td>...</td>\n",
       "      <td>0</td>\n",
       "      <td>0</td>\n",
       "      <td>0</td>\n",
       "      <td>1</td>\n",
       "      <td>icon</td>\n",
       "      <td>explosive</td>\n",
       "      <td>h</td>\n",
       "      <td>m</td>\n",
       "      <td>173.0</td>\n",
       "      <td>70.0</td>\n",
       "    </tr>\n",
       "    <tr>\n",
       "      <th>1</th>\n",
       "      <td>98</td>\n",
       "      <td>5000000.0</td>\n",
       "      <td>4</td>\n",
       "      <td>4</td>\n",
       "      <td>93</td>\n",
       "      <td>98</td>\n",
       "      <td>97</td>\n",
       "      <td>99</td>\n",
       "      <td>40</td>\n",
       "      <td>77</td>\n",
       "      <td>...</td>\n",
       "      <td>0</td>\n",
       "      <td>0</td>\n",
       "      <td>1</td>\n",
       "      <td>0</td>\n",
       "      <td>toty</td>\n",
       "      <td>controlled</td>\n",
       "      <td>h</td>\n",
       "      <td>l</td>\n",
       "      <td>169.0</td>\n",
       "      <td>67.0</td>\n",
       "    </tr>\n",
       "    <tr>\n",
       "      <th>2</th>\n",
       "      <td>97</td>\n",
       "      <td>2310000.0</td>\n",
       "      <td>4</td>\n",
       "      <td>5</td>\n",
       "      <td>92</td>\n",
       "      <td>97</td>\n",
       "      <td>90</td>\n",
       "      <td>94</td>\n",
       "      <td>45</td>\n",
       "      <td>90</td>\n",
       "      <td>...</td>\n",
       "      <td>0</td>\n",
       "      <td>0</td>\n",
       "      <td>0</td>\n",
       "      <td>1</td>\n",
       "      <td>toty</td>\n",
       "      <td>controlled</td>\n",
       "      <td>h</td>\n",
       "      <td>m</td>\n",
       "      <td>185.0</td>\n",
       "      <td>81.0</td>\n",
       "    </tr>\n",
       "    <tr>\n",
       "      <th>3</th>\n",
       "      <td>97</td>\n",
       "      <td>11200000.0</td>\n",
       "      <td>5</td>\n",
       "      <td>4</td>\n",
       "      <td>99</td>\n",
       "      <td>96</td>\n",
       "      <td>88</td>\n",
       "      <td>98</td>\n",
       "      <td>44</td>\n",
       "      <td>87</td>\n",
       "      <td>...</td>\n",
       "      <td>0</td>\n",
       "      <td>0</td>\n",
       "      <td>0</td>\n",
       "      <td>1</td>\n",
       "      <td>toty</td>\n",
       "      <td>controlled</td>\n",
       "      <td>h</td>\n",
       "      <td>l</td>\n",
       "      <td>182.0</td>\n",
       "      <td>73.0</td>\n",
       "    </tr>\n",
       "    <tr>\n",
       "      <th>4</th>\n",
       "      <td>97</td>\n",
       "      <td>2580000.0</td>\n",
       "      <td>4</td>\n",
       "      <td>5</td>\n",
       "      <td>85</td>\n",
       "      <td>94</td>\n",
       "      <td>98</td>\n",
       "      <td>94</td>\n",
       "      <td>81</td>\n",
       "      <td>86</td>\n",
       "      <td>...</td>\n",
       "      <td>0</td>\n",
       "      <td>0</td>\n",
       "      <td>0</td>\n",
       "      <td>0</td>\n",
       "      <td>toty</td>\n",
       "      <td>controlled</td>\n",
       "      <td>h</td>\n",
       "      <td>h</td>\n",
       "      <td>181.0</td>\n",
       "      <td>70.0</td>\n",
       "    </tr>\n",
       "  </tbody>\n",
       "</table>\n",
       "<p>5 rows × 37 columns</p>\n",
       "</div>"
      ],
      "text/plain": [
       "   Rating       Price  Skills  Weak Foot  Pace  Shooting  Passing  Dribbling   \n",
       "0      98   4020000.0       5          4    95        96       93         96  \\\n",
       "1      98   5000000.0       4          4    93        98       97         99   \n",
       "2      97   2310000.0       4          5    92        97       90         94   \n",
       "3      97  11200000.0       5          4    99        96       88         98   \n",
       "4      97   2580000.0       4          5    85        94       98         94   \n",
       "\n",
       "   Defending  Physicality  ...  LM  RB  RM ST Card Type Acceleration Type   \n",
       "0         60           76  ...   0   0   0  1      icon         explosive  \\\n",
       "1         40           77  ...   0   0   1  0      toty        controlled   \n",
       "2         45           90  ...   0   0   0  1      toty        controlled   \n",
       "3         44           87  ...   0   0   0  1      toty        controlled   \n",
       "4         81           86  ...   0   0   0  0      toty        controlled   \n",
       "\n",
       "   Work Rate (Attack)  Work Rate (Defense)  Height (cm)  Weight (kg)  \n",
       "0                   h                    m        173.0         70.0  \n",
       "1                   h                    l        169.0         67.0  \n",
       "2                   h                    m        185.0         81.0  \n",
       "3                   h                    l        182.0         73.0  \n",
       "4                   h                    h        181.0         70.0  \n",
       "\n",
       "[5 rows x 37 columns]"
      ]
     },
     "metadata": {},
     "output_type": "display_data"
    }
   ],
   "source": [
    "# Load data\n",
    "df2 = pd.read_csv(r'datasets\\player_dataset_clean.csv')\n",
    "df2.head()"
   ]
  },
  {
   "cell_type": "markdown",
   "metadata": {},
   "source": [
    "### Replacing NaN values"
   ]
  },
  {
   "cell_type": "markdown",
   "metadata": {},
   "source": [
    "First I will look to see if there are any NaN values in the dataset:"
   ]
  },
  {
   "cell_type": "code",
   "execution_count": null,
   "metadata": {},
   "outputs": [
    {
     "data": {
      "text/plain": [
       "Card Type    673\n",
       "Rating         0\n",
       "LM             0\n",
       "CM             0\n",
       "LB             0\n",
       "dtype: int64"
      ]
     },
     "metadata": {},
     "output_type": "display_data"
    }
   ],
   "source": [
    "df2.isna().sum().sort_values(ascending=False).head()"
   ]
  },
  {
   "cell_type": "code",
   "execution_count": null,
   "metadata": {},
   "outputs": [
    {
     "data": {
      "text/plain": [
       "Card Type\n",
       "normal          14054\n",
       "non-rare         1077\n",
       "rare              666\n",
       "libertadores      502\n",
       "if                485\n",
       "Name: count, dtype: int64"
      ]
     },
     "metadata": {},
     "output_type": "display_data"
    }
   ],
   "source": [
    "# Since Card Type has some NaN values, I will look into the value counts to see which are the most popular values\n",
    "df2['Card Type'].value_counts().head()"
   ]
  },
  {
   "cell_type": "code",
   "execution_count": null,
   "metadata": {},
   "outputs": [],
   "source": [
    "# Since 'normal' is by far the most common, I will opt to replace all NaN values with this value\n",
    "df2['Card Type'] = df2['Card Type'].fillna('normal')"
   ]
  },
  {
   "cell_type": "code",
   "execution_count": null,
   "metadata": {},
   "outputs": [
    {
     "data": {
      "text/plain": [
       "Rating    0\n",
       "RWB       0\n",
       "CM        0\n",
       "LB        0\n",
       "GK        0\n",
       "dtype: int64"
      ]
     },
     "metadata": {},
     "output_type": "display_data"
    }
   ],
   "source": [
    "# Now I rerun this code to check that all NaN values have been ammended \n",
    "df2.isna().sum().sort_values(ascending=False).head()"
   ]
  },
  {
   "cell_type": "markdown",
   "metadata": {},
   "source": [
    "### Target Variable Analysis"
   ]
  },
  {
   "cell_type": "markdown",
   "metadata": {},
   "source": [
    "We will now look into our target variable Price. For this stage we will split out data into a train and test sets and only do anaylysis on the training set in order to avoid any data leakage. \n"
   ]
  },
  {
   "cell_type": "code",
   "execution_count": null,
   "metadata": {},
   "outputs": [],
   "source": [
    "# Train Test Split\n",
    "df_train, df_test = train_test_split(\n",
    "    df2, test_size=0.3, random_state=42\n",
    ")\n",
    "\n",
    "# Save datasets\n",
    "df_train.to_csv(r'datasets\\train_dataset.csv', index=False)\n",
    "df_test.to_csv(r'datasets\\test_dataset.csv', index=False)"
   ]
  },
  {
   "cell_type": "code",
   "execution_count": null,
   "metadata": {},
   "outputs": [
    {
     "name": "stdout",
     "output_type": "stream",
     "text": [
      "Skew value of Price = 29.08\n"
     ]
    },
    {
     "data": {
      "image/png": "[encoded data removed]",
      "text/plain": [
       "<Figure size 640x480 with 1 Axes>"
      ]
     },
     "metadata": {},
     "output_type": "display_data"
    }
   ],
   "source": [
    "df_train.Price.hist(bins=100)\n",
    "plt.xlabel('Price')\n",
    "plt.ylabel('Frequency')\n",
    "plt.title('Histogram showing distribution of Price');\n",
    "print(f'Skew value of Price = {df.Price.skew():.2f}')"
   ]
  },
  {
   "cell_type": "markdown",
   "metadata": {},
   "source": [
    "We can see here that the Price column is heavily skewed. This makes sense as the rarer players in the game are generally the most sought after and therefore are worth the most. We can see below that a significant proportion of these are players priced at below 1000 coins:"
   ]
  },
  {
   "cell_type": "code",
   "execution_count": null,
   "metadata": {},
   "outputs": [
    {
     "name": "stdout",
     "output_type": "stream",
     "text": [
      "Price\n",
      "400.0     3735\n",
      "200.0     3502\n",
      "450.0      731\n",
      "500.0      335\n",
      "350.0      278\n",
      "850.0      227\n",
      "1000.0     216\n",
      "900.0      204\n",
      "550.0      201\n",
      "600.0      180\n",
      "Name: count, dtype: int64\n",
      "\n",
      "\n",
      "81.13% of all entries are below 5000 coins\n"
     ]
    }
   ],
   "source": [
    "# Number of players at each price point below 1000\n",
    "below_5000_counts = df_train[df_train['Price']<5000]['Price'].value_counts().head(20)\n",
    "print(below_5000_counts.head(10))\n",
    "below_5000_proportion = (below_5000_counts.sum()/df_train.shape[0])*100\n",
    "print('\\n')\n",
    "print(f'{below_5000_proportion:.2f}% of all entries are below 5000 coins')"
   ]
  },
  {
   "cell_type": "markdown",
   "metadata": {},
   "source": [
    "Realistically, anything below 5000 coins is a small amount of money in the game and can be easily afforded by most gamers. The model should allow users to identify value in the marketplace so this model would be better built to predict higher valued players. Therefore, I will look into ways to reduce the dataset so that a significant propotion of these lower-valued players are removed. "
   ]
  },
  {
   "cell_type": "markdown",
   "metadata": {},
   "source": [
    "Generally players with a higher Rating are worth the most in the game so we can look into whether removing lower rated players can help us reduce the lower-valued players in the dataset:"
   ]
  },
  {
   "cell_type": "code",
   "execution_count": null,
   "metadata": {},
   "outputs": [
    {
     "data": {
      "image/png": "[encoded data removed]",
      "text/plain": [
       "<Figure size 1200x600 with 1 Axes>"
      ]
     },
     "metadata": {},
     "output_type": "display_data"
    }
   ],
   "source": [
    "# Create bins for the Rating column\n",
    "bins = range(45, 105, 5)\n",
    "labels = [f'{i}-{i+4}' for i in range(45,96,5)]\n",
    "df_train_bins= pd.cut(df_train[\"Rating\"], bins=bins, labels=labels)\n",
    "\n",
    "# Create boxplots for Price for each of these bins\n",
    "fig, ax = plt.subplots(figsize = (12,6))\n",
    "\n",
    "sns.boxplot(x=df_train_bins, y=df_train['Price'], ax=ax)\n",
    "\n",
    "ax.set_xlabel('Rating Bins')\n",
    "ax.set_ylabel('Price')\n",
    "ax.set_ylim(5000)\n",
    "ax.set_title('Boxplots of Prices for Different Rating Bins');"
   ]
  },
  {
   "cell_type": "markdown",
   "metadata": {},
   "source": [
    "From the above graph we can see that we definitely want to include all players with a Rating over 90 in our model. However, we can also look deeper into the players with a rating below 90 to see if it's worth keeping any of these in our dataset. "
   ]
  },
  {
   "cell_type": "code",
   "execution_count": null,
   "metadata": {},
   "outputs": [
    {
     "data": {
      "image/png": "[encoded data removed]",
      "text/plain": [
       "<Figure size 1200x600 with 1 Axes>"
      ]
     },
     "metadata": {},
     "output_type": "display_data"
    }
   ],
   "source": [
    "# Create bins for the Rating column\n",
    "bins = range(45, 95, 5)\n",
    "labels = [f'{i}-{i+4}' for i in range(45,86,5)]\n",
    "df_train_bins= pd.cut(df_train[\"Rating\"], bins=bins, labels=labels)\n",
    "\n",
    "# Create boxplots for Price for each of these bins\n",
    "fig, ax = plt.subplots(figsize = (12,6))\n",
    "\n",
    "sns.boxplot(x=df_train_bins, y=df_train['Price'], ax=ax)\n",
    "\n",
    "ax.set_xlabel('Rating Bins')\n",
    "ax.set_ylabel('Price')\n",
    "ax.set_title('Boxplots of Prices for Different Rating Bins');"
   ]
  },
  {
   "cell_type": "code",
   "execution_count": null,
   "metadata": {},
   "outputs": [
    {
     "name": "stdout",
     "output_type": "stream",
     "text": [
      "Rating\n",
      "45-49      7\n",
      "50-54     19\n",
      "55-59     40\n",
      "60-64     80\n",
      "65-69     44\n",
      "70-74     29\n",
      "75-79     72\n",
      "80-84    337\n",
      "85-89    703\n",
      "Name: Price, dtype: int64\n"
     ]
    }
   ],
   "source": [
    "# We can also see the number of player priced over 5000 for each bin\n",
    "num_players_over_5000 = df_train[df_train['Price'] > 5000].groupby(df_train_bins)['Price'].count()\n",
    "print(num_players_over_5000)"
   ]
  },
  {
   "cell_type": "markdown",
   "metadata": {},
   "source": [
    "We can look into the Card Type for players that are rated below 85 as generally special edition cards are worth more:"
   ]
  },
  {
   "cell_type": "code",
   "execution_count": null,
   "metadata": {},
   "outputs": [
    {
     "data": {
      "image/png": "[encoded data removed]",
      "text/plain": [
       "<Figure size 1200x600 with 1 Axes>"
      ]
     },
     "metadata": {},
     "output_type": "display_data"
    }
   ],
   "source": [
    "# Create new dataframes for players rated below 80 for both over and under 1000 coins\n",
    "df_below85_above10000 = df_train[(df_train['Rating'] < 90) & (df_train['Price'] > 10000)]\n",
    "df_below85_below10000 = df_train[(df_train['Rating'] < 90) & (df_train['Price'] < 10000)]\n",
    "\n",
    "# Creare additional new dataframes counting the different Card Types for both of the above dataframes\n",
    "df_below85_above10000_count = pd.DataFrame(df_below85_above10000['Card Type'].value_counts()).reset_index()\n",
    "df_below85_below10000_count = pd.DataFrame(df_below85_below10000['Card Type'].value_counts()).reset_index()\n",
    "\n",
    "# Merge the dataframes on Card Type and rename the columns \n",
    "card_types = df_below85_above10000_count.merge(df_below85_below10000_count, how='right', on='Card Type')\n",
    "card_types.rename({'count_x' : 'Above 10000 Count', 'count_y' : 'Below 10000 Count'}, axis=1, inplace=True)\n",
    "\n",
    "# Fill NaN values with 0 and create new columns for the proportions \n",
    "card_types.fillna(0, inplace=True)\n",
    "card_types['Above 10000 Proportion'] = card_types['Above 10000 Count'].apply(lambda x: x/card_types['Above 10000 Count'].sum())\n",
    "card_types['Below 10000 Proportion'] = card_types['Below 10000 Count'].apply(lambda x: x/card_types['Below 10000 Count'].sum())\n",
    "\n",
    "# Plot in a bar graph\n",
    "fig, ax = plt.subplots(figsize = (12,6))\n",
    "card_types.plot(x='Card Type', y = ['Below 10000 Proportion', 'Above 10000 Proportion'], kind='bar', ax=ax)\n",
    "plt.legend(loc='upper right');"
   ]
  },
  {
   "cell_type": "markdown",
   "metadata": {},
   "source": [
    "Based on the information presented in the graph, it would be prudent to exclude 'normal', 'non-rare', 'libertadores' and 'sudamerica' cards from the dataset, as they represent a disproportionately higher proportion of cards that are valued at less than 10000 coins.\n",
    "\n",
    "To simplify the analysis, we will also exclude 'rare' cards, since these, along with the aforementioned types, are the only non-special cards. As such, our model will focus on predicting the value of player cards with a rating of 90 or higher, as well as special cards with a rating below 90.\n",
    "\n",
    "Since we are redefining the purpose of the model, we will remove these values from both the train and test dataset:"
   ]
  },
  {
   "cell_type": "code",
   "execution_count": null,
   "metadata": {},
   "outputs": [
    {
     "name": "stdout",
     "output_type": "stream",
     "text": [
      "Old number of rows: 19159\n",
      "New number of rows: 1780\n",
      "\n",
      "\n",
      "Old skew value of Price column: 19.12\n",
      "New skew value of Price column: 5.92\n"
     ]
    }
   ],
   "source": [
    "df_train2 = df_train[(df_train['Rating'] >= 90) | ~(df_train['Card Type'].isin(['normal', 'non-rare', 'rare', 'libertadores','sudamericana']))]\n",
    "df_test2 = df_test[(df_test['Rating'] >= 90) | ~(df_test['Card Type'].isin(['normal', 'non-rare', 'rare', 'libertadores','sudamericana']))]\n",
    "\n",
    "print('Old number of rows:', (df_train.shape[0] + df_test.shape[0]))\n",
    "print('New number of rows:', (df_train2.shape[0] + df_test2.shape[0]))\n",
    "print('\\n')\n",
    "print('Old skew value of Price column:', df_train['Price'].skew().round(2))\n",
    "print('New skew value of Price column:', df_train2['Price'].skew().round(2))\n",
    "\n",
    "# Save datasets\n",
    "df_train2.to_csv(r'datasets\\train_dataset.csv', index=False)\n",
    "df_test2.to_csv(r'datasets\\test_dataset.csv', index=False)"
   ]
  },
  {
   "cell_type": "markdown",
   "metadata": {},
   "source": [
    "Our target column for our training dataset is still heavily skewed so we will remove some outliers. However, we will only remove these from the training dataset to avoid data leakage:"
   ]
  },
  {
   "cell_type": "code",
   "execution_count": null,
   "metadata": {},
   "outputs": [
    {
     "data": {
      "image/png": "[encoded data removed]",
      "text/plain": [
       "<Figure size 640x480 with 1 Axes>"
      ]
     },
     "metadata": {},
     "output_type": "display_data"
    }
   ],
   "source": [
    "# Plot a histogram\n",
    "df_train2.Price.hist();"
   ]
  },
  {
   "cell_type": "code",
   "execution_count": null,
   "metadata": {},
   "outputs": [],
   "source": [
    "# Overwrite the saved dataset\n",
    "df_train2.to_csv(r'datasets\\train_dataset.csv', index=False)"
   ]
  },
  {
   "cell_type": "markdown",
   "metadata": {},
   "source": [
    "### Categorical Feature Analysis"
   ]
  },
  {
   "cell_type": "markdown",
   "metadata": {},
   "source": [
    "Now we will do some analysis into the categorical columns:"
   ]
  },
  {
   "cell_type": "code",
   "execution_count": null,
   "metadata": {},
   "outputs": [],
   "source": [
    "# Load data\n",
    "df_train = pd.read_csv(r'datasets\\train_dataset.csv')\n",
    "df_test = pd.read_csv(r'datasets\\test_dataset.csv')"
   ]
  },
  {
   "cell_type": "code",
   "execution_count": null,
   "metadata": {},
   "outputs": [
    {
     "data": {
      "text/html": [
       "<div>\n",
       "<style scoped>\n",
       "    .dataframe tbody tr th:only-of-type {\n",
       "        vertical-align: middle;\n",
       "    }\n",
       "\n",
       "    .dataframe tbody tr th {\n",
       "        vertical-align: top;\n",
       "    }\n",
       "\n",
       "    .dataframe thead th {\n",
       "        text-align: right;\n",
       "    }\n",
       "</style>\n",
       "<table border=\"1\" class=\"dataframe\">\n",
       "  <thead>\n",
       "    <tr style=\"text-align: right;\">\n",
       "      <th></th>\n",
       "      <th>Team</th>\n",
       "      <th>Nation</th>\n",
       "      <th>League</th>\n",
       "      <th>Card Type</th>\n",
       "      <th>Acceleration Type</th>\n",
       "      <th>Work Rate (Attack)</th>\n",
       "      <th>Work Rate (Defense)</th>\n",
       "    </tr>\n",
       "  </thead>\n",
       "  <tbody>\n",
       "    <tr>\n",
       "      <th>0</th>\n",
       "      <td>zagłębie lubin</td>\n",
       "      <td>bosnia and herzegovina</td>\n",
       "      <td>polski ekstraklasa (pol 1)</td>\n",
       "      <td>if</td>\n",
       "      <td>controlled</td>\n",
       "      <td>m</td>\n",
       "      <td>m</td>\n",
       "    </tr>\n",
       "    <tr>\n",
       "      <th>1</th>\n",
       "      <td>rcd espanyol</td>\n",
       "      <td>spain</td>\n",
       "      <td>laliga santander</td>\n",
       "      <td>sif</td>\n",
       "      <td>lengthy</td>\n",
       "      <td>h</td>\n",
       "      <td>m</td>\n",
       "    </tr>\n",
       "    <tr>\n",
       "      <th>2</th>\n",
       "      <td>ajax</td>\n",
       "      <td>netherlands</td>\n",
       "      <td>eredivisie</td>\n",
       "      <td>if</td>\n",
       "      <td>controlled</td>\n",
       "      <td>m</td>\n",
       "      <td>m</td>\n",
       "    </tr>\n",
       "    <tr>\n",
       "      <th>3</th>\n",
       "      <td>rennes</td>\n",
       "      <td>belgium</td>\n",
       "      <td>ligue 1</td>\n",
       "      <td>if</td>\n",
       "      <td>explosive</td>\n",
       "      <td>h</td>\n",
       "      <td>m</td>\n",
       "    </tr>\n",
       "    <tr>\n",
       "      <th>4</th>\n",
       "      <td>fut icons</td>\n",
       "      <td>france</td>\n",
       "      <td>icons</td>\n",
       "      <td>icon</td>\n",
       "      <td>controlled</td>\n",
       "      <td>m</td>\n",
       "      <td>m</td>\n",
       "    </tr>\n",
       "  </tbody>\n",
       "</table>\n",
       "</div>"
      ],
      "text/plain": [
       "             Team                  Nation                      League   \n",
       "0  zagłębie lubin  bosnia and herzegovina  polski ekstraklasa (pol 1)  \\\n",
       "1    rcd espanyol                   spain            laliga santander   \n",
       "2            ajax             netherlands                  eredivisie   \n",
       "3          rennes                 belgium                     ligue 1   \n",
       "4       fut icons                  france                       icons   \n",
       "\n",
       "  Card Type Acceleration Type Work Rate (Attack) Work Rate (Defense)  \n",
       "0        if        controlled                  m                   m  \n",
       "1       sif           lengthy                  h                   m  \n",
       "2        if        controlled                  m                   m  \n",
       "3        if         explosive                  h                   m  \n",
       "4      icon        controlled                  m                   m  "
      ]
     },
     "metadata": {},
     "output_type": "display_data"
    }
   ],
   "source": [
    "cat_df = df_train.select_dtypes(include='object')\n",
    "cat_df.head()"
   ]
  },
  {
   "cell_type": "markdown",
   "metadata": {},
   "source": [
    "First I will look into the Work Rate columns:"
   ]
  },
  {
   "cell_type": "code",
   "execution_count": null,
   "metadata": {},
   "outputs": [
    {
     "data": {
      "image/png": "[encoded data removed]",
      "text/plain": [
       "<Figure size 1200x600 with 2 Axes>"
      ]
     },
     "metadata": {},
     "output_type": "display_data"
    }
   ],
   "source": [
    "fig, (ax1, ax2) = plt.subplots(1,2, figsize=(12,6))\n",
    "\n",
    "sns.boxplot(x='Work Rate (Attack)', y='Price', data=df_train, ax=ax1)\n",
    "ax1.set_xlabel('Work Rate (Attack)')\n",
    "ax1.set_ylabel('Price')\n",
    "ax1.set(title='Relationship between Work Rate (Attack) and Price')\n",
    "\n",
    "sns.boxplot(x='Work Rate (Defense)', y='Price', data=df_train, ax=ax2)\n",
    "ax2.set_xlabel('Work Rate (Defense)')\n",
    "ax2.set(title='Relationship between Work Rate (Defense) and Price');"
   ]
  },
  {
   "cell_type": "markdown",
   "metadata": {},
   "source": [
    "Although our target variable Price is still fairly heavily skewed, there seems to be a clear correlation with 'Work Rate (Attack)' and 'Price' but not so much with 'Work Rate (Defense)' and 'Price'. However, since we can ordinal encode this columns, we will keep both for now as we won't be adding any additional columns:"
   ]
  },
  {
   "cell_type": "code",
   "execution_count": null,
   "metadata": {},
   "outputs": [],
   "source": [
    "# Create encoder object\n",
    "encoder = OrdinalEncoder(categories=[['l', 'm', 'h']], handle_unknown='use_encoded_value', unknown_value=4)\n",
    "\n",
    "# Fit and transorm on train data and transform test data - Attack\n",
    "df_train['WR_Att_OE'] = encoder.fit_transform(df_train[['Work Rate (Attack)']])\n",
    "df_test['WR_Att_OE'] = encoder.fit_transform(df_test[['Work Rate (Attack)']])\n",
    "\n",
    "# Fit and transorm on train data and transform test data - Defense\n",
    "df_train['WR_Def_OE'] = encoder.fit_transform(df_train[['Work Rate (Defense)']])\n",
    "df_test['WR_Def_OE'] = encoder.fit_transform(df_test[['Work Rate (Defense)']])\n",
    "\n",
    "# Drop original columns\n",
    "df_train.drop(['Work Rate (Attack)', 'Work Rate (Defense)'], axis=1, inplace=True)\n",
    "df_test.drop(['Work Rate (Attack)', 'Work Rate (Defense)'], axis=1, inplace=True)\n"
   ]
  },
  {
   "cell_type": "code",
   "execution_count": null,
   "metadata": {},
   "outputs": [
    {
     "data": {
      "text/html": [
       "<div>\n",
       "<style scoped>\n",
       "    .dataframe tbody tr th:only-of-type {\n",
       "        vertical-align: middle;\n",
       "    }\n",
       "\n",
       "    .dataframe tbody tr th {\n",
       "        vertical-align: top;\n",
       "    }\n",
       "\n",
       "    .dataframe thead th {\n",
       "        text-align: right;\n",
       "    }\n",
       "</style>\n",
       "<table border=\"1\" class=\"dataframe\">\n",
       "  <thead>\n",
       "    <tr style=\"text-align: right;\">\n",
       "      <th></th>\n",
       "      <th>Team</th>\n",
       "      <th>Nation</th>\n",
       "      <th>League</th>\n",
       "      <th>Card Type</th>\n",
       "      <th>Acceleration Type</th>\n",
       "    </tr>\n",
       "  </thead>\n",
       "  <tbody>\n",
       "    <tr>\n",
       "      <th>0</th>\n",
       "      <td>zagłębie lubin</td>\n",
       "      <td>bosnia and herzegovina</td>\n",
       "      <td>polski ekstraklasa (pol 1)</td>\n",
       "      <td>if</td>\n",
       "      <td>controlled</td>\n",
       "    </tr>\n",
       "    <tr>\n",
       "      <th>1</th>\n",
       "      <td>rcd espanyol</td>\n",
       "      <td>spain</td>\n",
       "      <td>laliga santander</td>\n",
       "      <td>sif</td>\n",
       "      <td>lengthy</td>\n",
       "    </tr>\n",
       "    <tr>\n",
       "      <th>2</th>\n",
       "      <td>ajax</td>\n",
       "      <td>netherlands</td>\n",
       "      <td>eredivisie</td>\n",
       "      <td>if</td>\n",
       "      <td>controlled</td>\n",
       "    </tr>\n",
       "    <tr>\n",
       "      <th>3</th>\n",
       "      <td>rennes</td>\n",
       "      <td>belgium</td>\n",
       "      <td>ligue 1</td>\n",
       "      <td>if</td>\n",
       "      <td>explosive</td>\n",
       "    </tr>\n",
       "    <tr>\n",
       "      <th>4</th>\n",
       "      <td>fut icons</td>\n",
       "      <td>france</td>\n",
       "      <td>icons</td>\n",
       "      <td>icon</td>\n",
       "      <td>controlled</td>\n",
       "    </tr>\n",
       "  </tbody>\n",
       "</table>\n",
       "</div>"
      ],
      "text/plain": [
       "             Team                  Nation                      League   \n",
       "0  zagłębie lubin  bosnia and herzegovina  polski ekstraklasa (pol 1)  \\\n",
       "1    rcd espanyol                   spain            laliga santander   \n",
       "2            ajax             netherlands                  eredivisie   \n",
       "3          rennes                 belgium                     ligue 1   \n",
       "4       fut icons                  france                       icons   \n",
       "\n",
       "  Card Type Acceleration Type  \n",
       "0        if        controlled  \n",
       "1       sif           lengthy  \n",
       "2        if        controlled  \n",
       "3        if         explosive  \n",
       "4      icon        controlled  "
      ]
     },
     "metadata": {},
     "output_type": "display_data"
    }
   ],
   "source": [
    "cat_df = df_train.select_dtypes(include='object')\n",
    "cat_df.head()"
   ]
  },
  {
   "cell_type": "markdown",
   "metadata": {},
   "source": [
    "Next we will look into 'Acceleration Type':"
   ]
  },
  {
   "cell_type": "code",
   "execution_count": null,
   "metadata": {},
   "outputs": [
    {
     "data": {
      "text/plain": [
       "Acceleration Type\n",
       "controlled    726\n",
       "explosive     299\n",
       "lengthy       242\n",
       "Name: count, dtype: int64"
      ]
     },
     "metadata": {},
     "output_type": "display_data"
    }
   ],
   "source": [
    "df_train['Acceleration Type'].value_counts()"
   ]
  },
  {
   "cell_type": "markdown",
   "metadata": {},
   "source": [
    "Since there are only three different values here, it will be fine to one-hot encode these without adding too many new columns"
   ]
  },
  {
   "cell_type": "markdown",
   "metadata": {},
   "source": [
    "We will create a function that one-hot-encodes our feature, adds the columns onto the original dataset, and deletes the orginal feature"
   ]
  },
  {
   "cell_type": "code",
   "execution_count": null,
   "metadata": {},
   "outputs": [],
   "source": [
    "def add_ohe_columns(df_train, df_test, column):\n",
    "    \n",
    "    # Create OHE object\n",
    "    ohe = OneHotEncoder(handle_unknown='ignore')\n",
    "\n",
    "    # Fit and transform train data\n",
    "    ohe.fit(df_train[[column]])\n",
    "    ohe_cols_train = ohe.transform(df_train[[column]])\n",
    "    ohe_df_train = pd.DataFrame(ohe_cols_train.toarray(), columns=ohe.get_feature_names_out())\n",
    "\n",
    "    # Concatenate with orgiginal dataframe and drop old column\n",
    "    new_df_train = pd.concat([df_train, ohe_df_train], axis=1)\n",
    "    new_df_train.drop(column, axis=1, inplace=True)\n",
    "\n",
    "    # Transform test data\n",
    "    ohe_cols_test = ohe.transform(df_test[[column]])\n",
    "    ohe_df_test = pd.DataFrame(ohe_cols_test.toarray(), columns=ohe.get_feature_names_out())\n",
    "\n",
    "    # Concatenate with orgiginal dataframe and drop old column\n",
    "    new_df_test = pd.concat([df_test, ohe_df_test], axis=1)\n",
    "    new_df_test.drop(column, axis=1, inplace=True)\n",
    "\n",
    "    # Return new dataframe\n",
    "    return new_df_train, new_df_test\n"
   ]
  },
  {
   "cell_type": "code",
   "execution_count": null,
   "metadata": {},
   "outputs": [
    {
     "data": {
      "text/html": [
       "<div>\n",
       "<style scoped>\n",
       "    .dataframe tbody tr th:only-of-type {\n",
       "        vertical-align: middle;\n",
       "    }\n",
       "\n",
       "    .dataframe tbody tr th {\n",
       "        vertical-align: top;\n",
       "    }\n",
       "\n",
       "    .dataframe thead th {\n",
       "        text-align: right;\n",
       "    }\n",
       "</style>\n",
       "<table border=\"1\" class=\"dataframe\">\n",
       "  <thead>\n",
       "    <tr style=\"text-align: right;\">\n",
       "      <th></th>\n",
       "      <th>Rating</th>\n",
       "      <th>Price</th>\n",
       "      <th>Skills</th>\n",
       "      <th>Weak Foot</th>\n",
       "      <th>Pace</th>\n",
       "      <th>Shooting</th>\n",
       "      <th>Passing</th>\n",
       "      <th>Dribbling</th>\n",
       "      <th>Defending</th>\n",
       "      <th>Physicality</th>\n",
       "      <th>...</th>\n",
       "      <th>LM</th>\n",
       "      <th>RB</th>\n",
       "      <th>RM</th>\n",
       "      <th>ST</th>\n",
       "      <th>Card Type</th>\n",
       "      <th>Acceleration Type</th>\n",
       "      <th>Height (cm)</th>\n",
       "      <th>Weight (kg)</th>\n",
       "      <th>WR_Att_OE</th>\n",
       "      <th>WR_Def_OE</th>\n",
       "    </tr>\n",
       "  </thead>\n",
       "  <tbody>\n",
       "    <tr>\n",
       "      <th>0</th>\n",
       "      <td>79</td>\n",
       "      <td>11750.0</td>\n",
       "      <td>1</td>\n",
       "      <td>2</td>\n",
       "      <td>79</td>\n",
       "      <td>79</td>\n",
       "      <td>75</td>\n",
       "      <td>79</td>\n",
       "      <td>41</td>\n",
       "      <td>80</td>\n",
       "      <td>...</td>\n",
       "      <td>0</td>\n",
       "      <td>0</td>\n",
       "      <td>0</td>\n",
       "      <td>0</td>\n",
       "      <td>if</td>\n",
       "      <td>controlled</td>\n",
       "      <td>193.0</td>\n",
       "      <td>72.794708</td>\n",
       "      <td>1.0</td>\n",
       "      <td>1.0</td>\n",
       "    </tr>\n",
       "    <tr>\n",
       "      <th>1</th>\n",
       "      <td>86</td>\n",
       "      <td>19750.0</td>\n",
       "      <td>3</td>\n",
       "      <td>3</td>\n",
       "      <td>70</td>\n",
       "      <td>87</td>\n",
       "      <td>76</td>\n",
       "      <td>82</td>\n",
       "      <td>38</td>\n",
       "      <td>81</td>\n",
       "      <td>...</td>\n",
       "      <td>0</td>\n",
       "      <td>0</td>\n",
       "      <td>0</td>\n",
       "      <td>1</td>\n",
       "      <td>sif</td>\n",
       "      <td>lengthy</td>\n",
       "      <td>192.0</td>\n",
       "      <td>72.794708</td>\n",
       "      <td>2.0</td>\n",
       "      <td>1.0</td>\n",
       "    </tr>\n",
       "    <tr>\n",
       "      <th>2</th>\n",
       "      <td>81</td>\n",
       "      <td>16250.0</td>\n",
       "      <td>1</td>\n",
       "      <td>4</td>\n",
       "      <td>80</td>\n",
       "      <td>83</td>\n",
       "      <td>88</td>\n",
       "      <td>83</td>\n",
       "      <td>49</td>\n",
       "      <td>82</td>\n",
       "      <td>...</td>\n",
       "      <td>0</td>\n",
       "      <td>0</td>\n",
       "      <td>0</td>\n",
       "      <td>0</td>\n",
       "      <td>if</td>\n",
       "      <td>controlled</td>\n",
       "      <td>187.0</td>\n",
       "      <td>72.794708</td>\n",
       "      <td>1.0</td>\n",
       "      <td>1.0</td>\n",
       "    </tr>\n",
       "    <tr>\n",
       "      <th>3</th>\n",
       "      <td>83</td>\n",
       "      <td>11000.0</td>\n",
       "      <td>4</td>\n",
       "      <td>3</td>\n",
       "      <td>95</td>\n",
       "      <td>75</td>\n",
       "      <td>76</td>\n",
       "      <td>88</td>\n",
       "      <td>35</td>\n",
       "      <td>74</td>\n",
       "      <td>...</td>\n",
       "      <td>0</td>\n",
       "      <td>0</td>\n",
       "      <td>1</td>\n",
       "      <td>0</td>\n",
       "      <td>if</td>\n",
       "      <td>explosive</td>\n",
       "      <td>171.0</td>\n",
       "      <td>60.000000</td>\n",
       "      <td>2.0</td>\n",
       "      <td>1.0</td>\n",
       "    </tr>\n",
       "    <tr>\n",
       "      <th>4</th>\n",
       "      <td>93</td>\n",
       "      <td>670000.0</td>\n",
       "      <td>4</td>\n",
       "      <td>4</td>\n",
       "      <td>94</td>\n",
       "      <td>91</td>\n",
       "      <td>83</td>\n",
       "      <td>90</td>\n",
       "      <td>53</td>\n",
       "      <td>80</td>\n",
       "      <td>...</td>\n",
       "      <td>0</td>\n",
       "      <td>0</td>\n",
       "      <td>0</td>\n",
       "      <td>1</td>\n",
       "      <td>icon</td>\n",
       "      <td>controlled</td>\n",
       "      <td>188.0</td>\n",
       "      <td>72.794708</td>\n",
       "      <td>1.0</td>\n",
       "      <td>1.0</td>\n",
       "    </tr>\n",
       "    <tr>\n",
       "      <th>...</th>\n",
       "      <td>...</td>\n",
       "      <td>...</td>\n",
       "      <td>...</td>\n",
       "      <td>...</td>\n",
       "      <td>...</td>\n",
       "      <td>...</td>\n",
       "      <td>...</td>\n",
       "      <td>...</td>\n",
       "      <td>...</td>\n",
       "      <td>...</td>\n",
       "      <td>...</td>\n",
       "      <td>...</td>\n",
       "      <td>...</td>\n",
       "      <td>...</td>\n",
       "      <td>...</td>\n",
       "      <td>...</td>\n",
       "      <td>...</td>\n",
       "      <td>...</td>\n",
       "      <td>...</td>\n",
       "      <td>...</td>\n",
       "      <td>...</td>\n",
       "    </tr>\n",
       "    <tr>\n",
       "      <th>1262</th>\n",
       "      <td>85</td>\n",
       "      <td>75000.0</td>\n",
       "      <td>3</td>\n",
       "      <td>4</td>\n",
       "      <td>91</td>\n",
       "      <td>86</td>\n",
       "      <td>66</td>\n",
       "      <td>79</td>\n",
       "      <td>40</td>\n",
       "      <td>74</td>\n",
       "      <td>...</td>\n",
       "      <td>0</td>\n",
       "      <td>0</td>\n",
       "      <td>0</td>\n",
       "      <td>1</td>\n",
       "      <td>icon</td>\n",
       "      <td>controlled</td>\n",
       "      <td>175.0</td>\n",
       "      <td>72.000000</td>\n",
       "      <td>1.0</td>\n",
       "      <td>1.0</td>\n",
       "    </tr>\n",
       "    <tr>\n",
       "      <th>1263</th>\n",
       "      <td>91</td>\n",
       "      <td>469000.0</td>\n",
       "      <td>3</td>\n",
       "      <td>4</td>\n",
       "      <td>87</td>\n",
       "      <td>84</td>\n",
       "      <td>86</td>\n",
       "      <td>77</td>\n",
       "      <td>89</td>\n",
       "      <td>82</td>\n",
       "      <td>...</td>\n",
       "      <td>0</td>\n",
       "      <td>0</td>\n",
       "      <td>1</td>\n",
       "      <td>0</td>\n",
       "      <td>icon</td>\n",
       "      <td>controlled</td>\n",
       "      <td>174.0</td>\n",
       "      <td>70.000000</td>\n",
       "      <td>2.0</td>\n",
       "      <td>2.0</td>\n",
       "    </tr>\n",
       "    <tr>\n",
       "      <th>1264</th>\n",
       "      <td>88</td>\n",
       "      <td>35500.0</td>\n",
       "      <td>3</td>\n",
       "      <td>4</td>\n",
       "      <td>83</td>\n",
       "      <td>88</td>\n",
       "      <td>78</td>\n",
       "      <td>80</td>\n",
       "      <td>40</td>\n",
       "      <td>84</td>\n",
       "      <td>...</td>\n",
       "      <td>0</td>\n",
       "      <td>0</td>\n",
       "      <td>0</td>\n",
       "      <td>1</td>\n",
       "      <td>if</td>\n",
       "      <td>lengthy</td>\n",
       "      <td>191.0</td>\n",
       "      <td>94.000000</td>\n",
       "      <td>1.0</td>\n",
       "      <td>0.0</td>\n",
       "    </tr>\n",
       "    <tr>\n",
       "      <th>1265</th>\n",
       "      <td>83</td>\n",
       "      <td>12500.0</td>\n",
       "      <td>2</td>\n",
       "      <td>3</td>\n",
       "      <td>67</td>\n",
       "      <td>51</td>\n",
       "      <td>68</td>\n",
       "      <td>73</td>\n",
       "      <td>83</td>\n",
       "      <td>90</td>\n",
       "      <td>...</td>\n",
       "      <td>0</td>\n",
       "      <td>0</td>\n",
       "      <td>0</td>\n",
       "      <td>0</td>\n",
       "      <td>if</td>\n",
       "      <td>lengthy</td>\n",
       "      <td>190.0</td>\n",
       "      <td>72.794708</td>\n",
       "      <td>1.0</td>\n",
       "      <td>2.0</td>\n",
       "    </tr>\n",
       "    <tr>\n",
       "      <th>1266</th>\n",
       "      <td>87</td>\n",
       "      <td>33500.0</td>\n",
       "      <td>4</td>\n",
       "      <td>3</td>\n",
       "      <td>90</td>\n",
       "      <td>85</td>\n",
       "      <td>88</td>\n",
       "      <td>88</td>\n",
       "      <td>52</td>\n",
       "      <td>69</td>\n",
       "      <td>...</td>\n",
       "      <td>1</td>\n",
       "      <td>0</td>\n",
       "      <td>0</td>\n",
       "      <td>0</td>\n",
       "      <td>hero</td>\n",
       "      <td>explosive</td>\n",
       "      <td>180.0</td>\n",
       "      <td>74.000000</td>\n",
       "      <td>1.0</td>\n",
       "      <td>1.0</td>\n",
       "    </tr>\n",
       "  </tbody>\n",
       "</table>\n",
       "<p>1267 rows × 37 columns</p>\n",
       "</div>"
      ],
      "text/plain": [
       "      Rating     Price  Skills  Weak Foot  Pace  Shooting  Passing  Dribbling   \n",
       "0         79   11750.0       1          2    79        79       75         79  \\\n",
       "1         86   19750.0       3          3    70        87       76         82   \n",
       "2         81   16250.0       1          4    80        83       88         83   \n",
       "3         83   11000.0       4          3    95        75       76         88   \n",
       "4         93  670000.0       4          4    94        91       83         90   \n",
       "...      ...       ...     ...        ...   ...       ...      ...        ...   \n",
       "1262      85   75000.0       3          4    91        86       66         79   \n",
       "1263      91  469000.0       3          4    87        84       86         77   \n",
       "1264      88   35500.0       3          4    83        88       78         80   \n",
       "1265      83   12500.0       2          3    67        51       68         73   \n",
       "1266      87   33500.0       4          3    90        85       88         88   \n",
       "\n",
       "      Defending  Physicality  ...  LM  RB  RM ST Card Type Acceleration Type   \n",
       "0            41           80  ...   0   0   0  0        if        controlled  \\\n",
       "1            38           81  ...   0   0   0  1       sif           lengthy   \n",
       "2            49           82  ...   0   0   0  0        if        controlled   \n",
       "3            35           74  ...   0   0   1  0        if         explosive   \n",
       "4            53           80  ...   0   0   0  1      icon        controlled   \n",
       "...         ...          ...  ...  ..  ..  .. ..       ...               ...   \n",
       "1262         40           74  ...   0   0   0  1      icon        controlled   \n",
       "1263         89           82  ...   0   0   1  0      icon        controlled   \n",
       "1264         40           84  ...   0   0   0  1        if           lengthy   \n",
       "1265         83           90  ...   0   0   0  0        if           lengthy   \n",
       "1266         52           69  ...   1   0   0  0      hero         explosive   \n",
       "\n",
       "      Height (cm)  Weight (kg)  WR_Att_OE  WR_Def_OE  \n",
       "0           193.0    72.794708        1.0        1.0  \n",
       "1           192.0    72.794708        2.0        1.0  \n",
       "2           187.0    72.794708        1.0        1.0  \n",
       "3           171.0    60.000000        2.0        1.0  \n",
       "4           188.0    72.794708        1.0        1.0  \n",
       "...           ...          ...        ...        ...  \n",
       "1262        175.0    72.000000        1.0        1.0  \n",
       "1263        174.0    70.000000        2.0        2.0  \n",
       "1264        191.0    94.000000        1.0        0.0  \n",
       "1265        190.0    72.794708        1.0        2.0  \n",
       "1266        180.0    74.000000        1.0        1.0  \n",
       "\n",
       "[1267 rows x 37 columns]"
      ]
     },
     "metadata": {},
     "output_type": "display_data"
    }
   ],
   "source": [
    "df_train"
   ]
  },
  {
   "cell_type": "code",
   "execution_count": null,
   "metadata": {},
   "outputs": [
    {
     "data": {
      "text/html": [
       "<div>\n",
       "<style scoped>\n",
       "    .dataframe tbody tr th:only-of-type {\n",
       "        vertical-align: middle;\n",
       "    }\n",
       "\n",
       "    .dataframe tbody tr th {\n",
       "        vertical-align: top;\n",
       "    }\n",
       "\n",
       "    .dataframe thead th {\n",
       "        text-align: right;\n",
       "    }\n",
       "</style>\n",
       "<table border=\"1\" class=\"dataframe\">\n",
       "  <thead>\n",
       "    <tr style=\"text-align: right;\">\n",
       "      <th></th>\n",
       "      <th>Rating</th>\n",
       "      <th>Price</th>\n",
       "      <th>Skills</th>\n",
       "      <th>Weak Foot</th>\n",
       "      <th>Pace</th>\n",
       "      <th>Shooting</th>\n",
       "      <th>Passing</th>\n",
       "      <th>Dribbling</th>\n",
       "      <th>Defending</th>\n",
       "      <th>Physicality</th>\n",
       "      <th>...</th>\n",
       "      <th>RM</th>\n",
       "      <th>ST</th>\n",
       "      <th>Card Type</th>\n",
       "      <th>Height (cm)</th>\n",
       "      <th>Weight (kg)</th>\n",
       "      <th>WR_Att_OE</th>\n",
       "      <th>WR_Def_OE</th>\n",
       "      <th>Acceleration Type_controlled</th>\n",
       "      <th>Acceleration Type_explosive</th>\n",
       "      <th>Acceleration Type_lengthy</th>\n",
       "    </tr>\n",
       "  </thead>\n",
       "  <tbody>\n",
       "    <tr>\n",
       "      <th>0</th>\n",
       "      <td>79</td>\n",
       "      <td>11750.0</td>\n",
       "      <td>1</td>\n",
       "      <td>2</td>\n",
       "      <td>79</td>\n",
       "      <td>79</td>\n",
       "      <td>75</td>\n",
       "      <td>79</td>\n",
       "      <td>41</td>\n",
       "      <td>80</td>\n",
       "      <td>...</td>\n",
       "      <td>0</td>\n",
       "      <td>0</td>\n",
       "      <td>if</td>\n",
       "      <td>193.0</td>\n",
       "      <td>72.794708</td>\n",
       "      <td>1.0</td>\n",
       "      <td>1.0</td>\n",
       "      <td>1.0</td>\n",
       "      <td>0.0</td>\n",
       "      <td>0.0</td>\n",
       "    </tr>\n",
       "    <tr>\n",
       "      <th>1</th>\n",
       "      <td>86</td>\n",
       "      <td>19750.0</td>\n",
       "      <td>3</td>\n",
       "      <td>3</td>\n",
       "      <td>70</td>\n",
       "      <td>87</td>\n",
       "      <td>76</td>\n",
       "      <td>82</td>\n",
       "      <td>38</td>\n",
       "      <td>81</td>\n",
       "      <td>...</td>\n",
       "      <td>0</td>\n",
       "      <td>1</td>\n",
       "      <td>sif</td>\n",
       "      <td>192.0</td>\n",
       "      <td>72.794708</td>\n",
       "      <td>2.0</td>\n",
       "      <td>1.0</td>\n",
       "      <td>0.0</td>\n",
       "      <td>0.0</td>\n",
       "      <td>1.0</td>\n",
       "    </tr>\n",
       "  </tbody>\n",
       "</table>\n",
       "<p>2 rows × 39 columns</p>\n",
       "</div>"
      ],
      "text/plain": [
       "   Rating    Price  Skills  Weak Foot  Pace  Shooting  Passing  Dribbling   \n",
       "0      79  11750.0       1          2    79        79       75         79  \\\n",
       "1      86  19750.0       3          3    70        87       76         82   \n",
       "\n",
       "   Defending  Physicality  ...  RM  ST  Card Type Height (cm) Weight (kg)   \n",
       "0         41           80  ...   0   0         if       193.0   72.794708  \\\n",
       "1         38           81  ...   0   1        sif       192.0   72.794708   \n",
       "\n",
       "  WR_Att_OE  WR_Def_OE  Acceleration Type_controlled   \n",
       "0       1.0        1.0                           1.0  \\\n",
       "1       2.0        1.0                           0.0   \n",
       "\n",
       "   Acceleration Type_explosive  Acceleration Type_lengthy  \n",
       "0                          0.0                        0.0  \n",
       "1                          0.0                        1.0  \n",
       "\n",
       "[2 rows x 39 columns]"
      ]
     },
     "metadata": {},
     "output_type": "display_data"
    },
    {
     "data": {
      "text/html": [
       "<div>\n",
       "<style scoped>\n",
       "    .dataframe tbody tr th:only-of-type {\n",
       "        vertical-align: middle;\n",
       "    }\n",
       "\n",
       "    .dataframe tbody tr th {\n",
       "        vertical-align: top;\n",
       "    }\n",
       "\n",
       "    .dataframe thead th {\n",
       "        text-align: right;\n",
       "    }\n",
       "</style>\n",
       "<table border=\"1\" class=\"dataframe\">\n",
       "  <thead>\n",
       "    <tr style=\"text-align: right;\">\n",
       "      <th></th>\n",
       "      <th>Rating</th>\n",
       "      <th>Price</th>\n",
       "      <th>Skills</th>\n",
       "      <th>Weak Foot</th>\n",
       "      <th>Pace</th>\n",
       "      <th>Shooting</th>\n",
       "      <th>Passing</th>\n",
       "      <th>Dribbling</th>\n",
       "      <th>Defending</th>\n",
       "      <th>Physicality</th>\n",
       "      <th>...</th>\n",
       "      <th>RM</th>\n",
       "      <th>ST</th>\n",
       "      <th>Card Type</th>\n",
       "      <th>Height (cm)</th>\n",
       "      <th>Weight (kg)</th>\n",
       "      <th>WR_Att_OE</th>\n",
       "      <th>WR_Def_OE</th>\n",
       "      <th>Acceleration Type_controlled</th>\n",
       "      <th>Acceleration Type_explosive</th>\n",
       "      <th>Acceleration Type_lengthy</th>\n",
       "    </tr>\n",
       "  </thead>\n",
       "  <tbody>\n",
       "    <tr>\n",
       "      <th>0</th>\n",
       "      <td>90</td>\n",
       "      <td>120000.0</td>\n",
       "      <td>1</td>\n",
       "      <td>3</td>\n",
       "      <td>88</td>\n",
       "      <td>87</td>\n",
       "      <td>80</td>\n",
       "      <td>90</td>\n",
       "      <td>53</td>\n",
       "      <td>91</td>\n",
       "      <td>...</td>\n",
       "      <td>0</td>\n",
       "      <td>0</td>\n",
       "      <td>world cup icon</td>\n",
       "      <td>196.0</td>\n",
       "      <td>72.794708</td>\n",
       "      <td>1.0</td>\n",
       "      <td>1.0</td>\n",
       "      <td>1.0</td>\n",
       "      <td>0.0</td>\n",
       "      <td>0.0</td>\n",
       "    </tr>\n",
       "    <tr>\n",
       "      <th>1</th>\n",
       "      <td>87</td>\n",
       "      <td>26500.0</td>\n",
       "      <td>4</td>\n",
       "      <td>3</td>\n",
       "      <td>80</td>\n",
       "      <td>80</td>\n",
       "      <td>87</td>\n",
       "      <td>90</td>\n",
       "      <td>49</td>\n",
       "      <td>72</td>\n",
       "      <td>...</td>\n",
       "      <td>0</td>\n",
       "      <td>0</td>\n",
       "      <td>if</td>\n",
       "      <td>180.0</td>\n",
       "      <td>81.000000</td>\n",
       "      <td>2.0</td>\n",
       "      <td>1.0</td>\n",
       "      <td>1.0</td>\n",
       "      <td>0.0</td>\n",
       "      <td>0.0</td>\n",
       "    </tr>\n",
       "  </tbody>\n",
       "</table>\n",
       "<p>2 rows × 39 columns</p>\n",
       "</div>"
      ],
      "text/plain": [
       "   Rating     Price  Skills  Weak Foot  Pace  Shooting  Passing  Dribbling   \n",
       "0      90  120000.0       1          3    88        87       80         90  \\\n",
       "1      87   26500.0       4          3    80        80       87         90   \n",
       "\n",
       "   Defending  Physicality  ...  RM  ST       Card Type Height (cm)   \n",
       "0         53           91  ...   0   0  world cup icon       196.0  \\\n",
       "1         49           72  ...   0   0              if       180.0   \n",
       "\n",
       "  Weight (kg) WR_Att_OE  WR_Def_OE  Acceleration Type_controlled   \n",
       "0   72.794708       1.0        1.0                           1.0  \\\n",
       "1   81.000000       2.0        1.0                           1.0   \n",
       "\n",
       "   Acceleration Type_explosive  Acceleration Type_lengthy  \n",
       "0                          0.0                        0.0  \n",
       "1                          0.0                        0.0  \n",
       "\n",
       "[2 rows x 39 columns]"
      ]
     },
     "metadata": {},
     "output_type": "display_data"
    }
   ],
   "source": [
    "# OHE 'Acceleration Type\n",
    "df_train, df_test = add_ohe_columns(df_train, df_test, 'Acceleration Type')\n",
    "\n",
    "# Check to see columns have successfully been encoded\n",
    "display(df_train.head(2))\n",
    "display(df_test.head(2))"
   ]
  },
  {
   "cell_type": "code",
   "execution_count": null,
   "metadata": {},
   "outputs": [
    {
     "data": {
      "text/plain": [
       "Index(['Rating', 'Price', 'Skills', 'Weak Foot', 'Pace', 'Shooting', 'Passing',\n",
       "       'Dribbling', 'Defending', 'Physicality', 'Popularity', 'Base Stats',\n",
       "       'In Game Stats', 'Team', 'Nation', 'League', 'CB', 'RW', 'LW', 'RWB',\n",
       "       'LWB', 'CM', 'LB', 'GK', 'CAM', 'CF', 'CDM', 'LM', 'RB', 'RM', 'ST',\n",
       "       'Card Type', 'Height (cm)', 'Weight (kg)', 'WR_Att_OE', 'WR_Def_OE',\n",
       "       'Acceleration Type_controlled', 'Acceleration Type_explosive',\n",
       "       'Acceleration Type_lengthy'],\n",
       "      dtype='object')"
      ]
     },
     "metadata": {},
     "output_type": "display_data"
    }
   ],
   "source": [
    "df_train.columns"
   ]
  },
  {
   "cell_type": "code",
   "execution_count": null,
   "metadata": {},
   "outputs": [
    {
     "data": {
      "text/html": [
       "<div>\n",
       "<style scoped>\n",
       "    .dataframe tbody tr th:only-of-type {\n",
       "        vertical-align: middle;\n",
       "    }\n",
       "\n",
       "    .dataframe tbody tr th {\n",
       "        vertical-align: top;\n",
       "    }\n",
       "\n",
       "    .dataframe thead th {\n",
       "        text-align: right;\n",
       "    }\n",
       "</style>\n",
       "<table border=\"1\" class=\"dataframe\">\n",
       "  <thead>\n",
       "    <tr style=\"text-align: right;\">\n",
       "      <th></th>\n",
       "      <th>Team</th>\n",
       "      <th>Nation</th>\n",
       "      <th>League</th>\n",
       "      <th>Card Type</th>\n",
       "    </tr>\n",
       "  </thead>\n",
       "  <tbody>\n",
       "    <tr>\n",
       "      <th>0</th>\n",
       "      <td>zagłębie lubin</td>\n",
       "      <td>bosnia and herzegovina</td>\n",
       "      <td>polski ekstraklasa (pol 1)</td>\n",
       "      <td>if</td>\n",
       "    </tr>\n",
       "    <tr>\n",
       "      <th>1</th>\n",
       "      <td>rcd espanyol</td>\n",
       "      <td>spain</td>\n",
       "      <td>laliga santander</td>\n",
       "      <td>sif</td>\n",
       "    </tr>\n",
       "    <tr>\n",
       "      <th>2</th>\n",
       "      <td>ajax</td>\n",
       "      <td>netherlands</td>\n",
       "      <td>eredivisie</td>\n",
       "      <td>if</td>\n",
       "    </tr>\n",
       "    <tr>\n",
       "      <th>3</th>\n",
       "      <td>rennes</td>\n",
       "      <td>belgium</td>\n",
       "      <td>ligue 1</td>\n",
       "      <td>if</td>\n",
       "    </tr>\n",
       "    <tr>\n",
       "      <th>4</th>\n",
       "      <td>fut icons</td>\n",
       "      <td>france</td>\n",
       "      <td>icons</td>\n",
       "      <td>icon</td>\n",
       "    </tr>\n",
       "  </tbody>\n",
       "</table>\n",
       "</div>"
      ],
      "text/plain": [
       "             Team                  Nation                      League   \n",
       "0  zagłębie lubin  bosnia and herzegovina  polski ekstraklasa (pol 1)  \\\n",
       "1    rcd espanyol                   spain            laliga santander   \n",
       "2            ajax             netherlands                  eredivisie   \n",
       "3          rennes                 belgium                     ligue 1   \n",
       "4       fut icons                  france                       icons   \n",
       "\n",
       "  Card Type  \n",
       "0        if  \n",
       "1       sif  \n",
       "2        if  \n",
       "3        if  \n",
       "4      icon  "
      ]
     },
     "metadata": {},
     "output_type": "display_data"
    }
   ],
   "source": [
    "cat_df = df_train.select_dtypes(include='object')\n",
    "cat_df.head()"
   ]
  },
  {
   "cell_type": "markdown",
   "metadata": {},
   "source": []
  },
  {
   "cell_type": "markdown",
   "metadata": {},
   "source": [
    "Next we look into the Card Type column. Since there are a lot of values in this column we will find ways to group some of them together."
   ]
  },
  {
   "cell_type": "code",
   "execution_count": null,
   "metadata": {},
   "outputs": [
    {
     "name": "stdout",
     "output_type": "stream",
     "text": [
      "Number of unique Card Type values: 80\n"
     ]
    }
   ],
   "source": [
    "# Show number of unique values\n",
    "print('Number of unique Card Type values:', df_train['Card Type'].nunique())"
   ]
  },
  {
   "cell_type": "code",
   "execution_count": null,
   "metadata": {},
   "outputs": [
    {
     "data": {
      "text/plain": [
       "Index(['if', 'icon', 'sif', 'hero', 'fut future stars', 'winter wildcards',\n",
       "       'fut centurions', 'fut birthday', 'world cup ptg', 'world cup icon',\n",
       "       'fantasy', 'normal', 'trophy titans - icon', 'world cup hero',\n",
       "       'showdown sbc', 'world cup phenoms', 'world cup showdown s',\n",
       "       'world cup stories', 'world cup tott', 'flashback sbc', 'rulebreakers',\n",
       "       'fantasy hero', 'motm', 'road to world cup', 'dynamic duos',\n",
       "       'world cup star sbc', 'ucl live', 'toty', 'fut birthday sbc',\n",
       "       'future stars token', 'winter wildcards sbc', 'fut bd token', 'otw',\n",
       "       'toty honourable ment', 'tif', 'champions league', 'out of position',\n",
       "       'toty icon', 'trophy titans hero', 'fut ballers sbc',\n",
       "       'player moments sbc', 'potm serie a sbc', 'out of position sbc',\n",
       "       'fut centurions sbc', 'uel live', 'pl potm sbc', 'wildcard token',\n",
       "       'fut future stars sbc', 'eredivisie potm sbc', 'ligue 1 potm sbc',\n",
       "       'cl motm', 'laliga potm sbc', 'otw sbc', 'europa league motm',\n",
       "       'rulebreakers sbc', 'bundes potm sbc', 'champions league sbc',\n",
       "       'world cup icon sbc', 'fif', 'cl motm sbc', 'premium sbc',\n",
       "       'world cup ptg sbc', 'conference league', 'world cup showdown',\n",
       "       'europa conf motm', 'fut bd token sbc', 'rare', 'europa league',\n",
       "       'road to worldcup sbc', 'toty icon sbc', 'world cup phenom sbc',\n",
       "       'uecl live', 'ucl live sbc', 'fantasy sbc', 'world cup phenoms sb',\n",
       "       'world cup tott sbc', 'europa league sbc', 'world cup star',\n",
       "       'uel live sbc', 'road to world cup sb'],\n",
       "      dtype='object', name='Card Type')"
      ]
     },
     "metadata": {},
     "output_type": "display_data"
    }
   ],
   "source": [
    "# Return a list of Card Type values\n",
    "df_train['Card Type'].value_counts().index"
   ]
  },
  {
   "cell_type": "markdown",
   "metadata": {},
   "source": [
    "First we can create a function for replacing values containing certain strings with another value:"
   ]
  },
  {
   "cell_type": "code",
   "execution_count": null,
   "metadata": {},
   "outputs": [],
   "source": [
    "def replace_cat_values(df_train, df_test, column, old_values, new_value):\n",
    "    \n",
    "    # Create copies of the dataframes \n",
    "    new_df_train = df_train.copy()\n",
    "    new_df_test = df_test.copy()\n",
    "\n",
    "    # Convert old_values to a string, if it is a list, for use in str.contains()\n",
    "    if type(old_values) == str:\n",
    "        string = old_values\n",
    "    elif type(old_values) == list:\n",
    "        string = '|'.join(old_values)\n",
    "        \n",
    "    # Create a mask of rows where the column contains any of the old values\n",
    "    train_mask = new_df_train[column].str.contains(string)\n",
    "    test_mask = new_df_test[column].str.contains(string)\n",
    "\n",
    "    # Replace the old values with the new value in the selected rows\n",
    "    new_df_train.loc[train_mask, column] = new_value\n",
    "    new_df_test.loc[test_mask, column] = new_value\n",
    "\n",
    "    # Return new df\n",
    "    return new_df_train, new_df_test\n",
    "\n"
   ]
  },
  {
   "cell_type": "markdown",
   "metadata": {},
   "source": [
    "We can group all SBC, MOTM, Icon, Hero, Token and IF cards: "
   ]
  },
  {
   "cell_type": "code",
   "execution_count": null,
   "metadata": {},
   "outputs": [
    {
     "name": "stdout",
     "output_type": "stream",
     "text": [
      "Number of unique Card Type values: 33\n"
     ]
    },
    {
     "data": {
      "text/plain": [
       "Index(['if', 'icon', 'sbc', 'hero', 'fut future stars', 'winter wildcards',\n",
       "       'fut centurions', 'fut birthday', 'world cup ptg', 'fantasy', 'motm',\n",
       "       'token', 'normal', 'world cup showdown s', 'world cup phenoms',\n",
       "       'rulebreakers', 'world cup stories', 'world cup tott', 'ucl live',\n",
       "       'dynamic duos', 'road to world cup', 'toty', 'champions league', 'otw',\n",
       "       'out of position', 'toty honourable ment', 'uel live',\n",
       "       'conference league', 'world cup showdown', 'world cup star',\n",
       "       'uecl live', 'europa league', 'rare'],\n",
       "      dtype='object', name='Card Type')"
      ]
     },
     "metadata": {},
     "output_type": "display_data"
    }
   ],
   "source": [
    "# SBC (We use 'sb' as one value is missing the 'c')\n",
    "df_train, df_test = replace_cat_values(df_train, df_test, 'Card Type', 'sb', 'sbc')\n",
    "\n",
    "# MOTM\n",
    "df_train, df_test = replace_cat_values(df_train, df_test, 'Card Type', 'motm', 'motm')\n",
    "\n",
    "# Icon\n",
    "df_train, df_test = replace_cat_values(df_train, df_test, 'Card Type', 'icon', 'icon')\n",
    "\n",
    "# Hero\n",
    "df_train, df_test = replace_cat_values(df_train, df_test, 'Card Type', 'hero', 'hero')\n",
    "\n",
    "# Token\n",
    "df_train, df_test = replace_cat_values(df_train, df_test, 'Card Type', 'token', 'token')\n",
    "\n",
    "# IF\n",
    "df_train, df_test = replace_cat_values(df_train, df_test, 'Card Type', 'if', 'if')\n",
    "\n",
    "# Show updated number of unique values\n",
    "print('Number of unique Card Type values:', df_train['Card Type'].nunique())\n",
    "# Return an updated list of Card Type values\n",
    "df_train['Card Type'].value_counts().index"
   ]
  },
  {
   "cell_type": "markdown",
   "metadata": {},
   "source": [
    "Next we'll group all the tournament cards together:"
   ]
  },
  {
   "cell_type": "code",
   "execution_count": null,
   "metadata": {},
   "outputs": [
    {
     "name": "stdout",
     "output_type": "stream",
     "text": [
      "Number of unique Card Type values: 21\n"
     ]
    },
    {
     "data": {
      "text/plain": [
       "Index(['if', 'icon', 'sbc', 'world cup', 'hero', 'fut future stars',\n",
       "       'winter wildcards', 'fut centurions', 'uefa cup comps', 'fut birthday',\n",
       "       'fantasy', 'token', 'motm', 'normal', 'rulebreakers', 'dynamic duos',\n",
       "       'toty', 'toty honourable ment', 'out of position', 'otw', 'rare'],\n",
       "      dtype='object', name='Card Type')"
      ]
     },
     "metadata": {},
     "output_type": "display_data"
    }
   ],
   "source": [
    "# World Cup\n",
    "df_train, df_test = replace_cat_values(df_train, df_test, 'Card Type', 'world cup', 'world cup')\n",
    "\n",
    "# UEFA Cup competitions\n",
    "df_train, df_test = replace_cat_values(df_train, df_test, 'Card Type', ['ucl','uel','uecl','champions league','europa league','conference league'], 'uefa cup comps')\n",
    "\n",
    "# South America competitions\n",
    "df_train, df_test = replace_cat_values(df_train, df_test, 'Card Type', ['sudamericana','libertadores'], 'south america comps')\n",
    "\n",
    "# Show updated number of unique values\n",
    "print('Number of unique Card Type values:', df_train['Card Type'].nunique())\n",
    "# Return an updated list of Card Type values\n",
    "df_train['Card Type'].value_counts().index"
   ]
  },
  {
   "cell_type": "markdown",
   "metadata": {},
   "source": [
    "We can also group Normal, Rare and Non-Rare cards together as these generally all the non-special cards in the game:"
   ]
  },
  {
   "cell_type": "code",
   "execution_count": null,
   "metadata": {},
   "outputs": [
    {
     "name": "stdout",
     "output_type": "stream",
     "text": [
      "Number of unique Card Type values: 20\n"
     ]
    },
    {
     "data": {
      "text/plain": [
       "Index(['if', 'icon', 'sbc', 'world cup', 'hero', 'fut future stars',\n",
       "       'winter wildcards', 'fut centurions', 'uefa cup comps', 'fut birthday',\n",
       "       'fantasy', 'non-special', 'motm', 'token', 'rulebreakers',\n",
       "       'dynamic duos', 'toty', 'otw', 'out of position',\n",
       "       'toty honourable ment'],\n",
       "      dtype='object', name='Card Type')"
      ]
     },
     "metadata": {},
     "output_type": "display_data"
    }
   ],
   "source": [
    "df_train, df_test = replace_cat_values(df_train, df_test, 'Card Type', ['normal','rare','non-rare'], 'non-special')\n",
    "\n",
    "# Show updated number of unique values\n",
    "print('Number of unique Card Type values:', df_train['Card Type'].nunique())\n",
    "# Return an updated list of Card Type values\n",
    "df_train['Card Type'].value_counts().index"
   ]
  },
  {
   "cell_type": "markdown",
   "metadata": {},
   "source": [
    "We will now look into the median Price values of the new Card Type values:  "
   ]
  },
  {
   "cell_type": "code",
   "execution_count": null,
   "metadata": {},
   "outputs": [
    {
     "data": {
      "text/plain": [
       "Card Type\n",
       "toty                    2095000.0\n",
       "non-special              304000.0\n",
       "toty honourable ment     157000.0\n",
       "icon                     115000.0\n",
       "fut future stars          79500.0\n",
       "sbc                       74950.0\n",
       "fut birthday              74000.0\n",
       "uefa cup comps            63500.0\n",
       "world cup                 58000.0\n",
       "hero                      58000.0\n",
       "fantasy                   53500.0\n",
       "winter wildcards          40375.0\n",
       "otw                       40250.0\n",
       "fut centurions            34500.0\n",
       "rulebreakers              31375.0\n",
       "dynamic duos              29150.0\n",
       "out of position           28000.0\n",
       "motm                      17500.0\n",
       "if                        16500.0\n",
       "token                      3550.0\n",
       "Name: Price, dtype: float64"
      ]
     },
     "metadata": {},
     "output_type": "display_data"
    }
   ],
   "source": [
    "df_train.groupby('Card Type')['Price'].median().sort_values(ascending=False)"
   ]
  },
  {
   "cell_type": "markdown",
   "metadata": {},
   "source": [
    "We can see above that apart from TOTY and TOTY Honourable Mention, all the other card types are on a similar scale, therefore we will create an 'Other' category for the remaining types that weren't grouped earlier: "
   ]
  },
  {
   "cell_type": "code",
   "execution_count": null,
   "metadata": {},
   "outputs": [
    {
     "name": "stdout",
     "output_type": "stream",
     "text": [
      "Number of unique Card Type values: 8\n"
     ]
    },
    {
     "data": {
      "text/plain": [
       "Index(['if', 'icon', 'other', 'sbc', 'world cup', 'hero', 'uefa cup comps',\n",
       "       'motm'],\n",
       "      dtype='object', name='Card Type')"
      ]
     },
     "metadata": {},
     "output_type": "display_data"
    }
   ],
   "source": [
    "# Get a list of card types not already grouped\n",
    "all_types = df_train['Card Type'].value_counts().index.to_list()\n",
    "replaced_types = ['icon', 'south america comps', 'sbc', 'uefa cup comps', 'world cup', 'hero', 'motm', 'if']\n",
    "to_replace_types = [type for type in all_types if type not in replaced_types]\n",
    "\n",
    "# Replace these with 'other'\n",
    "df_train, df_test = replace_cat_values(df_train, df_test, 'Card Type', to_replace_types, 'other') \n",
    "\n",
    "# Show updated number of unique values\n",
    "print('Number of unique Card Type values:', df_train['Card Type'].nunique())\n",
    "# Return an updated list of Card Type values\n",
    "df_train['Card Type'].value_counts().index"
   ]
  },
  {
   "cell_type": "markdown",
   "metadata": {},
   "source": [
    "Now that we just have significantly reduced our unique values for this feature, we can one-hot-encode it without adding too many additional features."
   ]
  },
  {
   "cell_type": "code",
   "execution_count": null,
   "metadata": {},
   "outputs": [
    {
     "data": {
      "text/html": [
       "<div>\n",
       "<style scoped>\n",
       "    .dataframe tbody tr th:only-of-type {\n",
       "        vertical-align: middle;\n",
       "    }\n",
       "\n",
       "    .dataframe tbody tr th {\n",
       "        vertical-align: top;\n",
       "    }\n",
       "\n",
       "    .dataframe thead th {\n",
       "        text-align: right;\n",
       "    }\n",
       "</style>\n",
       "<table border=\"1\" class=\"dataframe\">\n",
       "  <thead>\n",
       "    <tr style=\"text-align: right;\">\n",
       "      <th></th>\n",
       "      <th>Rating</th>\n",
       "      <th>Price</th>\n",
       "      <th>Skills</th>\n",
       "      <th>Weak Foot</th>\n",
       "      <th>Pace</th>\n",
       "      <th>Shooting</th>\n",
       "      <th>Passing</th>\n",
       "      <th>Dribbling</th>\n",
       "      <th>Defending</th>\n",
       "      <th>Physicality</th>\n",
       "      <th>...</th>\n",
       "      <th>Acceleration Type_explosive</th>\n",
       "      <th>Acceleration Type_lengthy</th>\n",
       "      <th>Card Type_hero</th>\n",
       "      <th>Card Type_icon</th>\n",
       "      <th>Card Type_if</th>\n",
       "      <th>Card Type_motm</th>\n",
       "      <th>Card Type_other</th>\n",
       "      <th>Card Type_sbc</th>\n",
       "      <th>Card Type_uefa cup comps</th>\n",
       "      <th>Card Type_world cup</th>\n",
       "    </tr>\n",
       "  </thead>\n",
       "  <tbody>\n",
       "    <tr>\n",
       "      <th>0</th>\n",
       "      <td>79</td>\n",
       "      <td>11750.0</td>\n",
       "      <td>1</td>\n",
       "      <td>2</td>\n",
       "      <td>79</td>\n",
       "      <td>79</td>\n",
       "      <td>75</td>\n",
       "      <td>79</td>\n",
       "      <td>41</td>\n",
       "      <td>80</td>\n",
       "      <td>...</td>\n",
       "      <td>0.0</td>\n",
       "      <td>0.0</td>\n",
       "      <td>0.0</td>\n",
       "      <td>0.0</td>\n",
       "      <td>1.0</td>\n",
       "      <td>0.0</td>\n",
       "      <td>0.0</td>\n",
       "      <td>0.0</td>\n",
       "      <td>0.0</td>\n",
       "      <td>0.0</td>\n",
       "    </tr>\n",
       "    <tr>\n",
       "      <th>1</th>\n",
       "      <td>86</td>\n",
       "      <td>19750.0</td>\n",
       "      <td>3</td>\n",
       "      <td>3</td>\n",
       "      <td>70</td>\n",
       "      <td>87</td>\n",
       "      <td>76</td>\n",
       "      <td>82</td>\n",
       "      <td>38</td>\n",
       "      <td>81</td>\n",
       "      <td>...</td>\n",
       "      <td>0.0</td>\n",
       "      <td>1.0</td>\n",
       "      <td>0.0</td>\n",
       "      <td>0.0</td>\n",
       "      <td>1.0</td>\n",
       "      <td>0.0</td>\n",
       "      <td>0.0</td>\n",
       "      <td>0.0</td>\n",
       "      <td>0.0</td>\n",
       "      <td>0.0</td>\n",
       "    </tr>\n",
       "  </tbody>\n",
       "</table>\n",
       "<p>2 rows × 46 columns</p>\n",
       "</div>"
      ],
      "text/plain": [
       "   Rating    Price  Skills  Weak Foot  Pace  Shooting  Passing  Dribbling   \n",
       "0      79  11750.0       1          2    79        79       75         79  \\\n",
       "1      86  19750.0       3          3    70        87       76         82   \n",
       "\n",
       "   Defending  Physicality  ...  Acceleration Type_explosive   \n",
       "0         41           80  ...                          0.0  \\\n",
       "1         38           81  ...                          0.0   \n",
       "\n",
       "   Acceleration Type_lengthy  Card Type_hero Card Type_icon Card Type_if   \n",
       "0                        0.0             0.0            0.0          1.0  \\\n",
       "1                        1.0             0.0            0.0          1.0   \n",
       "\n",
       "  Card Type_motm  Card Type_other  Card Type_sbc  Card Type_uefa cup comps   \n",
       "0            0.0              0.0            0.0                       0.0  \\\n",
       "1            0.0              0.0            0.0                       0.0   \n",
       "\n",
       "   Card Type_world cup  \n",
       "0                  0.0  \n",
       "1                  0.0  \n",
       "\n",
       "[2 rows x 46 columns]"
      ]
     },
     "metadata": {},
     "output_type": "display_data"
    },
    {
     "data": {
      "text/html": [
       "<div>\n",
       "<style scoped>\n",
       "    .dataframe tbody tr th:only-of-type {\n",
       "        vertical-align: middle;\n",
       "    }\n",
       "\n",
       "    .dataframe tbody tr th {\n",
       "        vertical-align: top;\n",
       "    }\n",
       "\n",
       "    .dataframe thead th {\n",
       "        text-align: right;\n",
       "    }\n",
       "</style>\n",
       "<table border=\"1\" class=\"dataframe\">\n",
       "  <thead>\n",
       "    <tr style=\"text-align: right;\">\n",
       "      <th></th>\n",
       "      <th>Rating</th>\n",
       "      <th>Price</th>\n",
       "      <th>Skills</th>\n",
       "      <th>Weak Foot</th>\n",
       "      <th>Pace</th>\n",
       "      <th>Shooting</th>\n",
       "      <th>Passing</th>\n",
       "      <th>Dribbling</th>\n",
       "      <th>Defending</th>\n",
       "      <th>Physicality</th>\n",
       "      <th>...</th>\n",
       "      <th>Acceleration Type_explosive</th>\n",
       "      <th>Acceleration Type_lengthy</th>\n",
       "      <th>Card Type_hero</th>\n",
       "      <th>Card Type_icon</th>\n",
       "      <th>Card Type_if</th>\n",
       "      <th>Card Type_motm</th>\n",
       "      <th>Card Type_other</th>\n",
       "      <th>Card Type_sbc</th>\n",
       "      <th>Card Type_uefa cup comps</th>\n",
       "      <th>Card Type_world cup</th>\n",
       "    </tr>\n",
       "  </thead>\n",
       "  <tbody>\n",
       "    <tr>\n",
       "      <th>0</th>\n",
       "      <td>90</td>\n",
       "      <td>120000.0</td>\n",
       "      <td>1</td>\n",
       "      <td>3</td>\n",
       "      <td>88</td>\n",
       "      <td>87</td>\n",
       "      <td>80</td>\n",
       "      <td>90</td>\n",
       "      <td>53</td>\n",
       "      <td>91</td>\n",
       "      <td>...</td>\n",
       "      <td>0.0</td>\n",
       "      <td>0.0</td>\n",
       "      <td>0.0</td>\n",
       "      <td>1.0</td>\n",
       "      <td>0.0</td>\n",
       "      <td>0.0</td>\n",
       "      <td>0.0</td>\n",
       "      <td>0.0</td>\n",
       "      <td>0.0</td>\n",
       "      <td>0.0</td>\n",
       "    </tr>\n",
       "    <tr>\n",
       "      <th>1</th>\n",
       "      <td>87</td>\n",
       "      <td>26500.0</td>\n",
       "      <td>4</td>\n",
       "      <td>3</td>\n",
       "      <td>80</td>\n",
       "      <td>80</td>\n",
       "      <td>87</td>\n",
       "      <td>90</td>\n",
       "      <td>49</td>\n",
       "      <td>72</td>\n",
       "      <td>...</td>\n",
       "      <td>0.0</td>\n",
       "      <td>0.0</td>\n",
       "      <td>0.0</td>\n",
       "      <td>0.0</td>\n",
       "      <td>1.0</td>\n",
       "      <td>0.0</td>\n",
       "      <td>0.0</td>\n",
       "      <td>0.0</td>\n",
       "      <td>0.0</td>\n",
       "      <td>0.0</td>\n",
       "    </tr>\n",
       "  </tbody>\n",
       "</table>\n",
       "<p>2 rows × 46 columns</p>\n",
       "</div>"
      ],
      "text/plain": [
       "   Rating     Price  Skills  Weak Foot  Pace  Shooting  Passing  Dribbling   \n",
       "0      90  120000.0       1          3    88        87       80         90  \\\n",
       "1      87   26500.0       4          3    80        80       87         90   \n",
       "\n",
       "   Defending  Physicality  ...  Acceleration Type_explosive   \n",
       "0         53           91  ...                          0.0  \\\n",
       "1         49           72  ...                          0.0   \n",
       "\n",
       "   Acceleration Type_lengthy  Card Type_hero Card Type_icon Card Type_if   \n",
       "0                        0.0             0.0            1.0          0.0  \\\n",
       "1                        0.0             0.0            0.0          1.0   \n",
       "\n",
       "  Card Type_motm  Card Type_other  Card Type_sbc  Card Type_uefa cup comps   \n",
       "0            0.0              0.0            0.0                       0.0  \\\n",
       "1            0.0              0.0            0.0                       0.0   \n",
       "\n",
       "   Card Type_world cup  \n",
       "0                  0.0  \n",
       "1                  0.0  \n",
       "\n",
       "[2 rows x 46 columns]"
      ]
     },
     "metadata": {},
     "output_type": "display_data"
    }
   ],
   "source": [
    "# OHE 'Acceleration Type\n",
    "df_train, df_test = add_ohe_columns(df_train, df_test, 'Card Type')\n",
    "\n",
    "# Check to see columns have successfully been encoded\n",
    "display(df_train.head(2))\n",
    "display(df_test.head(2))"
   ]
  },
  {
   "cell_type": "code",
   "execution_count": null,
   "metadata": {},
   "outputs": [
    {
     "data": {
      "text/html": [
       "<div>\n",
       "<style scoped>\n",
       "    .dataframe tbody tr th:only-of-type {\n",
       "        vertical-align: middle;\n",
       "    }\n",
       "\n",
       "    .dataframe tbody tr th {\n",
       "        vertical-align: top;\n",
       "    }\n",
       "\n",
       "    .dataframe thead th {\n",
       "        text-align: right;\n",
       "    }\n",
       "</style>\n",
       "<table border=\"1\" class=\"dataframe\">\n",
       "  <thead>\n",
       "    <tr style=\"text-align: right;\">\n",
       "      <th></th>\n",
       "      <th>Team</th>\n",
       "      <th>Nation</th>\n",
       "      <th>League</th>\n",
       "    </tr>\n",
       "  </thead>\n",
       "  <tbody>\n",
       "    <tr>\n",
       "      <th>0</th>\n",
       "      <td>zagłębie lubin</td>\n",
       "      <td>bosnia and herzegovina</td>\n",
       "      <td>polski ekstraklasa (pol 1)</td>\n",
       "    </tr>\n",
       "    <tr>\n",
       "      <th>1</th>\n",
       "      <td>rcd espanyol</td>\n",
       "      <td>spain</td>\n",
       "      <td>laliga santander</td>\n",
       "    </tr>\n",
       "    <tr>\n",
       "      <th>2</th>\n",
       "      <td>ajax</td>\n",
       "      <td>netherlands</td>\n",
       "      <td>eredivisie</td>\n",
       "    </tr>\n",
       "    <tr>\n",
       "      <th>3</th>\n",
       "      <td>rennes</td>\n",
       "      <td>belgium</td>\n",
       "      <td>ligue 1</td>\n",
       "    </tr>\n",
       "    <tr>\n",
       "      <th>4</th>\n",
       "      <td>fut icons</td>\n",
       "      <td>france</td>\n",
       "      <td>icons</td>\n",
       "    </tr>\n",
       "  </tbody>\n",
       "</table>\n",
       "</div>"
      ],
      "text/plain": [
       "             Team                  Nation                      League\n",
       "0  zagłębie lubin  bosnia and herzegovina  polski ekstraklasa (pol 1)\n",
       "1    rcd espanyol                   spain            laliga santander\n",
       "2            ajax             netherlands                  eredivisie\n",
       "3          rennes                 belgium                     ligue 1\n",
       "4       fut icons                  france                       icons"
      ]
     },
     "metadata": {},
     "output_type": "display_data"
    }
   ],
   "source": [
    "cat_df = df_train.select_dtypes(include='object')\n",
    "cat_df.head()"
   ]
  },
  {
   "cell_type": "markdown",
   "metadata": {},
   "source": [
    "We will now look into the League column:"
   ]
  },
  {
   "cell_type": "code",
   "execution_count": null,
   "metadata": {},
   "outputs": [
    {
     "name": "stdout",
     "output_type": "stream",
     "text": [
      "Number of unique League values: 44\n",
      "Index(['icons', 'premier league', 'serie a tim', 'laliga santander',\n",
      "       'bundesliga', 'ligue 1', 'major league soccer', 'eredivisie',\n",
      "       'liga nos (por 1)', 'süper lig (tur 1)', 'efl championship (eng 2)',\n",
      "       '1a pro league (bel 1)', 'mbs pro league (sau 1)',\n",
      "       'scottish premiership (spfl)', '3. liga (ger 3)',\n",
      "       'efl league two (eng 4)', 'bundesliga 2 (ger 2)',\n",
      "       'raiffeisen super l. (sui 1)', 'a-league (aus 1)', 'world cup',\n",
      "       'ligue 2 (fra 2)', 'allsvenskan (swe 1)', 'italy serie b (2)',\n",
      "       'indian super league (ind 1)', 'primera división (arg 1)',\n",
      "       'polski ekstraklasa (pol 1)', 'laliga smartbank (esp 2)',\n",
      "       'efl league one (eng 3)', 'ö bundesliga (aut 1)',\n",
      "       '3f superliga (den 1)', 'ukrayina liha (ukr 1)', 'česká liga (cze 1)',\n",
      "       'liga i (rom 1)', 'south african fl (rsa 1)', 'hellas liga (gre 1)',\n",
      "       'liga hrvatska (cro 1)', 'conmebol libertadores',\n",
      "       'chinese fa super l. (chn 1)', 'united emirates l. (uae 1)',\n",
      "       'national league (eng 5)', 'k league 1 (kor 1)',\n",
      "       'sse airtricity league (irl 1)', 'eliteserien (nor 1)',\n",
      "       'finnliiga (fin 1)'],\n",
      "      dtype='object', name='League')\n"
     ]
    }
   ],
   "source": [
    "# Show number of unique values\n",
    "print('Number of unique League values:', df_train['League'].nunique())\n",
    "\n",
    "# Return an updated list of League values\n",
    "league_names = df_train['League'].value_counts().index\n",
    "print(league_names)"
   ]
  },
  {
   "cell_type": "markdown",
   "metadata": {},
   "source": [
    "We will keep all the big 5 European leagues as their own columns as well as MLS and special categories such as Icons and World Cup. For the rest we will group by division and continent. "
   ]
  },
  {
   "cell_type": "code",
   "execution_count": null,
   "metadata": {},
   "outputs": [
    {
     "name": "stdout",
     "output_type": "stream",
     "text": [
      "Number of unique League values: 12\n",
      "Index(['icons', 'premier league', 'serie a tim', 'laliga santander',\n",
      "       'rem_eur_div', 'bundesliga', 'ligue 1', 'big5_low_div',\n",
      "       'major league soccer', 'eredivisie', 'world cup', 'sa_leagues'],\n",
      "      dtype='object', name='League')\n"
     ]
    }
   ],
   "source": [
    "# Big 5 league's lower divisions:\n",
    "big5_low_divs = [league[:league.find('(')] for league in league_names if league[-2] in ['2','3','4','5']]\n",
    "df_train, df_test = replace_cat_values(df_train, df_test, 'League', big5_low_divs, 'big5_low_div')\n",
    "\n",
    "# South American Divisions:\n",
    "df_train, df_test = replace_cat_values(df_train, df_test, 'League', ['conmebol libertadores', 'conmebol sudamericana', 'primera división (arg 1)'], 'sa_leagues')\n",
    "\n",
    "# Asian and Australian Divisions:\n",
    "df_train, df_test = replace_cat_values(df_train, df_test, 'League', ['a-league (aus 1)', 'indian super league (ind 1)', 'chinese fa super l. (chn 1)','k league 1 (kor 1)'], 'asia_aus_leagues')\n",
    "\n",
    "# Middle Eastern Leagues:\n",
    "df_train, df_test = replace_cat_values(df_train, df_test, 'League', ['united emirates l. (uae 1)', 'mbs pro league (sau 1)'], 'me_leagues')\n",
    "\n",
    "# Remaining European Leagues:\n",
    "rem_eur_divs = [league[:league.find('(')] for league in league_names if league[-2] in ['1','l']]\n",
    "df_train, df_test = replace_cat_values(df_train, df_test, 'League', rem_eur_divs, 'rem_eur_div')\n",
    "\n",
    "# Show number of unique values\n",
    "print('Number of unique League values:', df_train['League'].nunique())\n",
    "\n",
    "# Return an updated list of League values\n",
    "league_names = df_train['League'].value_counts().index\n",
    "print(league_names)"
   ]
  },
  {
   "cell_type": "markdown",
   "metadata": {},
   "source": [
    "Now that we have significantly reduced the unique values, we can encode the columns:"
   ]
  },
  {
   "cell_type": "code",
   "execution_count": null,
   "metadata": {},
   "outputs": [
    {
     "data": {
      "text/html": [
       "<div>\n",
       "<style scoped>\n",
       "    .dataframe tbody tr th:only-of-type {\n",
       "        vertical-align: middle;\n",
       "    }\n",
       "\n",
       "    .dataframe tbody tr th {\n",
       "        vertical-align: top;\n",
       "    }\n",
       "\n",
       "    .dataframe thead th {\n",
       "        text-align: right;\n",
       "    }\n",
       "</style>\n",
       "<table border=\"1\" class=\"dataframe\">\n",
       "  <thead>\n",
       "    <tr style=\"text-align: right;\">\n",
       "      <th></th>\n",
       "      <th>Rating</th>\n",
       "      <th>Price</th>\n",
       "      <th>Skills</th>\n",
       "      <th>Weak Foot</th>\n",
       "      <th>Pace</th>\n",
       "      <th>Shooting</th>\n",
       "      <th>Passing</th>\n",
       "      <th>Dribbling</th>\n",
       "      <th>Defending</th>\n",
       "      <th>Physicality</th>\n",
       "      <th>...</th>\n",
       "      <th>League_eredivisie</th>\n",
       "      <th>League_icons</th>\n",
       "      <th>League_laliga santander</th>\n",
       "      <th>League_ligue 1</th>\n",
       "      <th>League_major league soccer</th>\n",
       "      <th>League_premier league</th>\n",
       "      <th>League_rem_eur_div</th>\n",
       "      <th>League_sa_leagues</th>\n",
       "      <th>League_serie a tim</th>\n",
       "      <th>League_world cup</th>\n",
       "    </tr>\n",
       "  </thead>\n",
       "  <tbody>\n",
       "    <tr>\n",
       "      <th>0</th>\n",
       "      <td>79</td>\n",
       "      <td>11750.0</td>\n",
       "      <td>1</td>\n",
       "      <td>2</td>\n",
       "      <td>79</td>\n",
       "      <td>79</td>\n",
       "      <td>75</td>\n",
       "      <td>79</td>\n",
       "      <td>41</td>\n",
       "      <td>80</td>\n",
       "      <td>...</td>\n",
       "      <td>0.0</td>\n",
       "      <td>0.0</td>\n",
       "      <td>0.0</td>\n",
       "      <td>0.0</td>\n",
       "      <td>0.0</td>\n",
       "      <td>0.0</td>\n",
       "      <td>1.0</td>\n",
       "      <td>0.0</td>\n",
       "      <td>0.0</td>\n",
       "      <td>0.0</td>\n",
       "    </tr>\n",
       "    <tr>\n",
       "      <th>1</th>\n",
       "      <td>86</td>\n",
       "      <td>19750.0</td>\n",
       "      <td>3</td>\n",
       "      <td>3</td>\n",
       "      <td>70</td>\n",
       "      <td>87</td>\n",
       "      <td>76</td>\n",
       "      <td>82</td>\n",
       "      <td>38</td>\n",
       "      <td>81</td>\n",
       "      <td>...</td>\n",
       "      <td>0.0</td>\n",
       "      <td>0.0</td>\n",
       "      <td>1.0</td>\n",
       "      <td>0.0</td>\n",
       "      <td>0.0</td>\n",
       "      <td>0.0</td>\n",
       "      <td>0.0</td>\n",
       "      <td>0.0</td>\n",
       "      <td>0.0</td>\n",
       "      <td>0.0</td>\n",
       "    </tr>\n",
       "  </tbody>\n",
       "</table>\n",
       "<p>2 rows × 57 columns</p>\n",
       "</div>"
      ],
      "text/plain": [
       "   Rating    Price  Skills  Weak Foot  Pace  Shooting  Passing  Dribbling   \n",
       "0      79  11750.0       1          2    79        79       75         79  \\\n",
       "1      86  19750.0       3          3    70        87       76         82   \n",
       "\n",
       "   Defending  Physicality  ...  League_eredivisie  League_icons   \n",
       "0         41           80  ...                0.0           0.0  \\\n",
       "1         38           81  ...                0.0           0.0   \n",
       "\n",
       "   League_laliga santander League_ligue 1 League_major league soccer   \n",
       "0                      0.0            0.0                        0.0  \\\n",
       "1                      1.0            0.0                        0.0   \n",
       "\n",
       "   League_premier league  League_rem_eur_div  League_sa_leagues   \n",
       "0                    0.0                 1.0                0.0  \\\n",
       "1                    0.0                 0.0                0.0   \n",
       "\n",
       "   League_serie a tim  League_world cup  \n",
       "0                 0.0               0.0  \n",
       "1                 0.0               0.0  \n",
       "\n",
       "[2 rows x 57 columns]"
      ]
     },
     "metadata": {},
     "output_type": "display_data"
    },
    {
     "data": {
      "text/html": [
       "<div>\n",
       "<style scoped>\n",
       "    .dataframe tbody tr th:only-of-type {\n",
       "        vertical-align: middle;\n",
       "    }\n",
       "\n",
       "    .dataframe tbody tr th {\n",
       "        vertical-align: top;\n",
       "    }\n",
       "\n",
       "    .dataframe thead th {\n",
       "        text-align: right;\n",
       "    }\n",
       "</style>\n",
       "<table border=\"1\" class=\"dataframe\">\n",
       "  <thead>\n",
       "    <tr style=\"text-align: right;\">\n",
       "      <th></th>\n",
       "      <th>Rating</th>\n",
       "      <th>Price</th>\n",
       "      <th>Skills</th>\n",
       "      <th>Weak Foot</th>\n",
       "      <th>Pace</th>\n",
       "      <th>Shooting</th>\n",
       "      <th>Passing</th>\n",
       "      <th>Dribbling</th>\n",
       "      <th>Defending</th>\n",
       "      <th>Physicality</th>\n",
       "      <th>...</th>\n",
       "      <th>League_eredivisie</th>\n",
       "      <th>League_icons</th>\n",
       "      <th>League_laliga santander</th>\n",
       "      <th>League_ligue 1</th>\n",
       "      <th>League_major league soccer</th>\n",
       "      <th>League_premier league</th>\n",
       "      <th>League_rem_eur_div</th>\n",
       "      <th>League_sa_leagues</th>\n",
       "      <th>League_serie a tim</th>\n",
       "      <th>League_world cup</th>\n",
       "    </tr>\n",
       "  </thead>\n",
       "  <tbody>\n",
       "    <tr>\n",
       "      <th>0</th>\n",
       "      <td>90</td>\n",
       "      <td>120000.0</td>\n",
       "      <td>1</td>\n",
       "      <td>3</td>\n",
       "      <td>88</td>\n",
       "      <td>87</td>\n",
       "      <td>80</td>\n",
       "      <td>90</td>\n",
       "      <td>53</td>\n",
       "      <td>91</td>\n",
       "      <td>...</td>\n",
       "      <td>0.0</td>\n",
       "      <td>1.0</td>\n",
       "      <td>0.0</td>\n",
       "      <td>0.0</td>\n",
       "      <td>0.0</td>\n",
       "      <td>0.0</td>\n",
       "      <td>0.0</td>\n",
       "      <td>0.0</td>\n",
       "      <td>0.0</td>\n",
       "      <td>0.0</td>\n",
       "    </tr>\n",
       "    <tr>\n",
       "      <th>1</th>\n",
       "      <td>87</td>\n",
       "      <td>26500.0</td>\n",
       "      <td>4</td>\n",
       "      <td>3</td>\n",
       "      <td>80</td>\n",
       "      <td>80</td>\n",
       "      <td>87</td>\n",
       "      <td>90</td>\n",
       "      <td>49</td>\n",
       "      <td>72</td>\n",
       "      <td>...</td>\n",
       "      <td>0.0</td>\n",
       "      <td>0.0</td>\n",
       "      <td>0.0</td>\n",
       "      <td>0.0</td>\n",
       "      <td>0.0</td>\n",
       "      <td>1.0</td>\n",
       "      <td>0.0</td>\n",
       "      <td>0.0</td>\n",
       "      <td>0.0</td>\n",
       "      <td>0.0</td>\n",
       "    </tr>\n",
       "  </tbody>\n",
       "</table>\n",
       "<p>2 rows × 57 columns</p>\n",
       "</div>"
      ],
      "text/plain": [
       "   Rating     Price  Skills  Weak Foot  Pace  Shooting  Passing  Dribbling   \n",
       "0      90  120000.0       1          3    88        87       80         90  \\\n",
       "1      87   26500.0       4          3    80        80       87         90   \n",
       "\n",
       "   Defending  Physicality  ...  League_eredivisie  League_icons   \n",
       "0         53           91  ...                0.0           1.0  \\\n",
       "1         49           72  ...                0.0           0.0   \n",
       "\n",
       "   League_laliga santander League_ligue 1 League_major league soccer   \n",
       "0                      0.0            0.0                        0.0  \\\n",
       "1                      0.0            0.0                        0.0   \n",
       "\n",
       "   League_premier league  League_rem_eur_div  League_sa_leagues   \n",
       "0                    0.0                 0.0                0.0  \\\n",
       "1                    1.0                 0.0                0.0   \n",
       "\n",
       "   League_serie a tim  League_world cup  \n",
       "0                 0.0               0.0  \n",
       "1                 0.0               0.0  \n",
       "\n",
       "[2 rows x 57 columns]"
      ]
     },
     "metadata": {},
     "output_type": "display_data"
    }
   ],
   "source": [
    "# OHE 'Acceleration Type\n",
    "df_train, df_test = add_ohe_columns(df_train, df_test, 'League')\n",
    "\n",
    "# Check to see columns have successfully been encoded\n",
    "display(df_train.head(2))\n",
    "display(df_test.head(2))"
   ]
  },
  {
   "cell_type": "markdown",
   "metadata": {},
   "source": [
    "Next we will group all the player nationalities in the Nation column as the continent of each nation:"
   ]
  },
  {
   "cell_type": "code",
   "execution_count": null,
   "metadata": {},
   "outputs": [
    {
     "name": "stdout",
     "output_type": "stream",
     "text": [
      "Number of unique Nation values: 86\n",
      "Index(['france', 'england', 'spain', 'germany', 'brazil', 'netherlands',\n",
      "       'italy', 'argentina', 'portugal', 'belgium', 'uruguay', 'croatia',\n",
      "       'denmark', 'mexico', 'côte d'ivoire', 'serbia', 'united states',\n",
      "       'australia', 'nigeria', 'scotland', 'norway', 'sweden', 'austria',\n",
      "       'wales', 'senegal', 'ghana', 'japan', 'cameroon', 'poland', 'morocco',\n",
      "       'republic of ireland', 'switzerland', 'colombia', 'korea republic',\n",
      "       'ukraine', 'canada', 'algeria', 'saudi arabia', 'hungary',\n",
      "       'bosnia and herzegovina', 'ecuador', 'georgia', 'czech republic',\n",
      "       'romania', 'congo dr', 'finland', 'egypt', 'northern ireland',\n",
      "       'tunisia', 'russia', 'turkey', 'burkina faso', 'paraguay', 'gabon',\n",
      "       'iceland', 'new zealand', 'kosovo', 'slovenia', 'mali', 'jamaica',\n",
      "       'greece', 'costa rica', 'benin', 'chile', 'mozambique', 'qatar',\n",
      "       'bulgaria', 'south africa', 'latvia', 'faroe islands', 'india', 'togo',\n",
      "       'burundi', 'antigua and barbuda', 'slovakia', 'uzbekistan',\n",
      "       'united arab emirates', 'armenia', 'china pr', 'peru', 'iran',\n",
      "       'central african republic', 'zambia', 'guinea', 'israel', 'montenegro'],\n",
      "      dtype='object', name='Nation')\n"
     ]
    }
   ],
   "source": [
    "# Show number of unique values\n",
    "print('Number of unique Nation values:', df_train['Nation'].nunique())\n",
    "\n",
    "# Return an updated list of League values\n",
    "nation_names = df_train['Nation'].value_counts().index\n",
    "print(nation_names)"
   ]
  },
  {
   "cell_type": "code",
   "execution_count": null,
   "metadata": {},
   "outputs": [],
   "source": [
    "# We can define a function to convert a country to its continent\n",
    "\n",
    "import pycountry_convert as pc\n",
    "\n",
    "def country_to_continent(country_name):\n",
    "    try:\n",
    "        # Convert the country name to its corresponding ISO alpha-2 code\n",
    "        country_alpha2 = pc.country_name_to_country_alpha2(country_name.title())\n",
    "        # Use the alpha-2 code to determine the continent code\n",
    "        continent_code = pc.country_alpha2_to_continent_code(country_alpha2)\n",
    "        # Convert the continent code to its corresponding continent name\n",
    "        continent_name = pc.convert_continent_code_to_continent_name(continent_code)\n",
    "        return continent_name\n",
    "    except LookupError:\n",
    "        # If the country name is not found in the pycountry database, return \"Unknown\"\n",
    "        return country_name\n"
   ]
  },
  {
   "cell_type": "code",
   "execution_count": null,
   "metadata": {},
   "outputs": [
    {
     "name": "stdout",
     "output_type": "stream",
     "text": [
      "Number of unique Continent values: 18\n",
      "Index(['Europe', 'South America', 'england', 'Africa', 'North America', 'Asia',\n",
      "       'côte d'ivoire', 'Oceania', 'scotland', 'wales', 'republic of ireland',\n",
      "       'korea republic', 'bosnia and herzegovina', 'congo dr',\n",
      "       'northern ireland', 'kosovo', 'china pr', 'antigua and barbuda'],\n",
      "      dtype='object', name='Continent')\n"
     ]
    }
   ],
   "source": [
    "# We create a new column callled 'Continent' usinf the above function\n",
    "df_train['Continent'] = df_train['Nation'].apply(lambda x: country_to_continent(x))\n",
    "df_test['Continent'] = df_test['Nation'].apply(lambda x: country_to_continent(x))\n",
    "\n",
    "# Show number of unique values\n",
    "print('Number of unique Continent values:', df_train['Continent'].nunique())\n",
    "\n",
    "# Return an updated list of League values\n",
    "continent_names = df_train['Continent'].value_counts().index\n",
    "print(continent_names)"
   ]
  },
  {
   "cell_type": "markdown",
   "metadata": {},
   "source": [
    "We can now manually change the countries that the function didn't work on: "
   ]
  },
  {
   "cell_type": "code",
   "execution_count": null,
   "metadata": {},
   "outputs": [
    {
     "name": "stdout",
     "output_type": "stream",
     "text": [
      "Number of unique Continent values: 6\n",
      "Index(['Europe', 'South America', 'Africa', 'North America', 'Asia',\n",
      "       'Oceania'],\n",
      "      dtype='object', name='Continent')\n"
     ]
    }
   ],
   "source": [
    "# Europe:\n",
    "df_train, df_test = replace_cat_values(df_train, df_test, 'Continent',\n",
    "                          ['england', 'scotland', 'northern ireland','republic of ireland', 'wales', 'bosnia and herzegovina','kosovo', 'fyr macedonia'],\n",
    "                          'Europe')\n",
    "\n",
    "# Africa:\n",
    "df_train, df_test = replace_cat_values(df_train, df_test, 'Continent', [\"côte d'ivoire\",'congo dr'], 'Africa')\n",
    "\n",
    "# Asia:\n",
    "df_train, df_test = replace_cat_values(df_train, df_test, 'Continent', ['korea republic','china pr'], 'Asia')\n",
    "\n",
    "# North America:\n",
    "df_train, df_test = replace_cat_values(df_train, df_test, 'Continent', ['trinidad and tobago' ,'antigua and barbuda'], 'North America')\n",
    "\n",
    "# Show number of unique values\n",
    "print('Number of unique Continent values:', df_train['Continent'].nunique())\n",
    "\n",
    "# Return an updated list of League values\n",
    "continent_names = df_train['Continent'].value_counts().index\n",
    "print(continent_names)"
   ]
  },
  {
   "cell_type": "markdown",
   "metadata": {},
   "source": [
    "Now we can drop the Nation column and encode the Continent columns:"
   ]
  },
  {
   "cell_type": "code",
   "execution_count": null,
   "metadata": {},
   "outputs": [
    {
     "data": {
      "text/html": [
       "<div>\n",
       "<style scoped>\n",
       "    .dataframe tbody tr th:only-of-type {\n",
       "        vertical-align: middle;\n",
       "    }\n",
       "\n",
       "    .dataframe tbody tr th {\n",
       "        vertical-align: top;\n",
       "    }\n",
       "\n",
       "    .dataframe thead th {\n",
       "        text-align: right;\n",
       "    }\n",
       "</style>\n",
       "<table border=\"1\" class=\"dataframe\">\n",
       "  <thead>\n",
       "    <tr style=\"text-align: right;\">\n",
       "      <th></th>\n",
       "      <th>Rating</th>\n",
       "      <th>Price</th>\n",
       "      <th>Skills</th>\n",
       "      <th>Weak Foot</th>\n",
       "      <th>Pace</th>\n",
       "      <th>Shooting</th>\n",
       "      <th>Passing</th>\n",
       "      <th>Dribbling</th>\n",
       "      <th>Defending</th>\n",
       "      <th>Physicality</th>\n",
       "      <th>...</th>\n",
       "      <th>League_rem_eur_div</th>\n",
       "      <th>League_sa_leagues</th>\n",
       "      <th>League_serie a tim</th>\n",
       "      <th>League_world cup</th>\n",
       "      <th>Continent_Africa</th>\n",
       "      <th>Continent_Asia</th>\n",
       "      <th>Continent_Europe</th>\n",
       "      <th>Continent_North America</th>\n",
       "      <th>Continent_Oceania</th>\n",
       "      <th>Continent_South America</th>\n",
       "    </tr>\n",
       "  </thead>\n",
       "  <tbody>\n",
       "    <tr>\n",
       "      <th>0</th>\n",
       "      <td>79</td>\n",
       "      <td>11750.0</td>\n",
       "      <td>1</td>\n",
       "      <td>2</td>\n",
       "      <td>79</td>\n",
       "      <td>79</td>\n",
       "      <td>75</td>\n",
       "      <td>79</td>\n",
       "      <td>41</td>\n",
       "      <td>80</td>\n",
       "      <td>...</td>\n",
       "      <td>1.0</td>\n",
       "      <td>0.0</td>\n",
       "      <td>0.0</td>\n",
       "      <td>0.0</td>\n",
       "      <td>0.0</td>\n",
       "      <td>0.0</td>\n",
       "      <td>1.0</td>\n",
       "      <td>0.0</td>\n",
       "      <td>0.0</td>\n",
       "      <td>0.0</td>\n",
       "    </tr>\n",
       "    <tr>\n",
       "      <th>1</th>\n",
       "      <td>86</td>\n",
       "      <td>19750.0</td>\n",
       "      <td>3</td>\n",
       "      <td>3</td>\n",
       "      <td>70</td>\n",
       "      <td>87</td>\n",
       "      <td>76</td>\n",
       "      <td>82</td>\n",
       "      <td>38</td>\n",
       "      <td>81</td>\n",
       "      <td>...</td>\n",
       "      <td>0.0</td>\n",
       "      <td>0.0</td>\n",
       "      <td>0.0</td>\n",
       "      <td>0.0</td>\n",
       "      <td>0.0</td>\n",
       "      <td>0.0</td>\n",
       "      <td>1.0</td>\n",
       "      <td>0.0</td>\n",
       "      <td>0.0</td>\n",
       "      <td>0.0</td>\n",
       "    </tr>\n",
       "  </tbody>\n",
       "</table>\n",
       "<p>2 rows × 62 columns</p>\n",
       "</div>"
      ],
      "text/plain": [
       "   Rating    Price  Skills  Weak Foot  Pace  Shooting  Passing  Dribbling   \n",
       "0      79  11750.0       1          2    79        79       75         79  \\\n",
       "1      86  19750.0       3          3    70        87       76         82   \n",
       "\n",
       "   Defending  Physicality  ...  League_rem_eur_div  League_sa_leagues   \n",
       "0         41           80  ...                 1.0                0.0  \\\n",
       "1         38           81  ...                 0.0                0.0   \n",
       "\n",
       "   League_serie a tim League_world cup  Continent_Africa  Continent_Asia   \n",
       "0                 0.0              0.0               0.0             0.0  \\\n",
       "1                 0.0              0.0               0.0             0.0   \n",
       "\n",
       "   Continent_Europe  Continent_North America  Continent_Oceania   \n",
       "0               1.0                      0.0                0.0  \\\n",
       "1               1.0                      0.0                0.0   \n",
       "\n",
       "   Continent_South America  \n",
       "0                      0.0  \n",
       "1                      0.0  \n",
       "\n",
       "[2 rows x 62 columns]"
      ]
     },
     "metadata": {},
     "output_type": "display_data"
    },
    {
     "data": {
      "text/html": [
       "<div>\n",
       "<style scoped>\n",
       "    .dataframe tbody tr th:only-of-type {\n",
       "        vertical-align: middle;\n",
       "    }\n",
       "\n",
       "    .dataframe tbody tr th {\n",
       "        vertical-align: top;\n",
       "    }\n",
       "\n",
       "    .dataframe thead th {\n",
       "        text-align: right;\n",
       "    }\n",
       "</style>\n",
       "<table border=\"1\" class=\"dataframe\">\n",
       "  <thead>\n",
       "    <tr style=\"text-align: right;\">\n",
       "      <th></th>\n",
       "      <th>Rating</th>\n",
       "      <th>Price</th>\n",
       "      <th>Skills</th>\n",
       "      <th>Weak Foot</th>\n",
       "      <th>Pace</th>\n",
       "      <th>Shooting</th>\n",
       "      <th>Passing</th>\n",
       "      <th>Dribbling</th>\n",
       "      <th>Defending</th>\n",
       "      <th>Physicality</th>\n",
       "      <th>...</th>\n",
       "      <th>League_rem_eur_div</th>\n",
       "      <th>League_sa_leagues</th>\n",
       "      <th>League_serie a tim</th>\n",
       "      <th>League_world cup</th>\n",
       "      <th>Continent_Africa</th>\n",
       "      <th>Continent_Asia</th>\n",
       "      <th>Continent_Europe</th>\n",
       "      <th>Continent_North America</th>\n",
       "      <th>Continent_Oceania</th>\n",
       "      <th>Continent_South America</th>\n",
       "    </tr>\n",
       "  </thead>\n",
       "  <tbody>\n",
       "    <tr>\n",
       "      <th>0</th>\n",
       "      <td>90</td>\n",
       "      <td>120000.0</td>\n",
       "      <td>1</td>\n",
       "      <td>3</td>\n",
       "      <td>88</td>\n",
       "      <td>87</td>\n",
       "      <td>80</td>\n",
       "      <td>90</td>\n",
       "      <td>53</td>\n",
       "      <td>91</td>\n",
       "      <td>...</td>\n",
       "      <td>0.0</td>\n",
       "      <td>0.0</td>\n",
       "      <td>0.0</td>\n",
       "      <td>0.0</td>\n",
       "      <td>0.0</td>\n",
       "      <td>0.0</td>\n",
       "      <td>1.0</td>\n",
       "      <td>0.0</td>\n",
       "      <td>0.0</td>\n",
       "      <td>0.0</td>\n",
       "    </tr>\n",
       "    <tr>\n",
       "      <th>1</th>\n",
       "      <td>87</td>\n",
       "      <td>26500.0</td>\n",
       "      <td>4</td>\n",
       "      <td>3</td>\n",
       "      <td>80</td>\n",
       "      <td>80</td>\n",
       "      <td>87</td>\n",
       "      <td>90</td>\n",
       "      <td>49</td>\n",
       "      <td>72</td>\n",
       "      <td>...</td>\n",
       "      <td>0.0</td>\n",
       "      <td>0.0</td>\n",
       "      <td>0.0</td>\n",
       "      <td>0.0</td>\n",
       "      <td>0.0</td>\n",
       "      <td>0.0</td>\n",
       "      <td>1.0</td>\n",
       "      <td>0.0</td>\n",
       "      <td>0.0</td>\n",
       "      <td>0.0</td>\n",
       "    </tr>\n",
       "  </tbody>\n",
       "</table>\n",
       "<p>2 rows × 62 columns</p>\n",
       "</div>"
      ],
      "text/plain": [
       "   Rating     Price  Skills  Weak Foot  Pace  Shooting  Passing  Dribbling   \n",
       "0      90  120000.0       1          3    88        87       80         90  \\\n",
       "1      87   26500.0       4          3    80        80       87         90   \n",
       "\n",
       "   Defending  Physicality  ...  League_rem_eur_div  League_sa_leagues   \n",
       "0         53           91  ...                 0.0                0.0  \\\n",
       "1         49           72  ...                 0.0                0.0   \n",
       "\n",
       "   League_serie a tim League_world cup  Continent_Africa  Continent_Asia   \n",
       "0                 0.0              0.0               0.0             0.0  \\\n",
       "1                 0.0              0.0               0.0             0.0   \n",
       "\n",
       "   Continent_Europe  Continent_North America  Continent_Oceania   \n",
       "0               1.0                      0.0                0.0  \\\n",
       "1               1.0                      0.0                0.0   \n",
       "\n",
       "   Continent_South America  \n",
       "0                      0.0  \n",
       "1                      0.0  \n",
       "\n",
       "[2 rows x 62 columns]"
      ]
     },
     "metadata": {},
     "output_type": "display_data"
    }
   ],
   "source": [
    "# Drop Nation columns:\n",
    "df_train.drop('Nation', axis=1, inplace=True)\n",
    "df_test.drop('Nation', axis=1, inplace=True)\n",
    "\n",
    "# OHE Continent column\n",
    "df_train, df_test = add_ohe_columns(df_train, df_test, 'Continent')\n",
    "\n",
    "# Check to see columns have successfully been encoded\n",
    "display(df_train.head(2))\n",
    "display(df_test.head(2))"
   ]
  },
  {
   "cell_type": "markdown",
   "metadata": {},
   "source": [
    "Finally we can look into encoding the Team column: "
   ]
  },
  {
   "cell_type": "code",
   "execution_count": null,
   "metadata": {},
   "outputs": [
    {
     "name": "stdout",
     "output_type": "stream",
     "text": [
      "Number of unique Team values: 248\n",
      "Index(['fut icons', 'hero', 'manchester utd', 'manchester city', 'fc bayern',\n",
      "       'milan', 'chelsea', 'fc barcelona', 'liverpool', 'dortmund',\n",
      "       ...\n",
      "       'talleres', 'wrexham afc', 'dynamo kyiv', 'fsv zwickau', 'st. pats',\n",
      "       'brazil', 'panathinaikos', 'rsc anderlecht', 'charlotte fc',\n",
      "       'damac fc'],\n",
      "      dtype='object', name='Team', length=248)\n"
     ]
    }
   ],
   "source": [
    "# Show number of unique values\n",
    "print('Number of unique Team values:', df_train['Team'].nunique())\n",
    "\n",
    "# Return an updated list of League values\n",
    "team_names = df_train['Team'].value_counts().index\n",
    "print(team_names)"
   ]
  },
  {
   "cell_type": "markdown",
   "metadata": {},
   "source": [
    "For this we will group all but the biggest teams into an 'Other' category and then encode:"
   ]
  },
  {
   "cell_type": "code",
   "execution_count": null,
   "metadata": {},
   "outputs": [],
   "source": [
    "# We can retrieve a list of the 20 teams with the most players\n",
    "top_teams = df_train['Team'].value_counts().head(20).index.to_list()\n",
    "\n",
    "# We can then use this to get a list of the other teams\n",
    "other_teams = [team for team in team_names if team not in top_teams]\n",
    "\n",
    "# Replace the other teams with 'Other'\n",
    "df_train['Team'] = df_train['Team'].replace({team : 'Other' for team in other_teams})\n",
    "df_test['Team'] = df_test['Team'].replace({team : 'Other' for team in other_teams})"
   ]
  },
  {
   "cell_type": "code",
   "execution_count": null,
   "metadata": {},
   "outputs": [
    {
     "name": "stdout",
     "output_type": "stream",
     "text": [
      "Number of unique Team values: 21\n",
      "Index(['Other', 'fut icons', 'hero', 'manchester utd', 'fc bayern',\n",
      "       'manchester city', 'milan', 'chelsea', 'fc barcelona', 'liverpool',\n",
      "       'dortmund', 'napoli', 'paris sg', 'real madrid', 'arsenal',\n",
      "       'atlético de madrid', 'juventus', 'rb leipzig', 'spurs', 'inter',\n",
      "       'sevilla fc'],\n",
      "      dtype='object', name='Team')\n"
     ]
    }
   ],
   "source": [
    "# Show number of unique values\n",
    "print('Number of unique Team values:', df_train['Team'].nunique())\n",
    "\n",
    "# Return an updated list of League values\n",
    "team_names = df_train['Team'].value_counts().index\n",
    "print(team_names)"
   ]
  },
  {
   "cell_type": "code",
   "execution_count": null,
   "metadata": {},
   "outputs": [
    {
     "data": {
      "text/html": [
       "<div>\n",
       "<style scoped>\n",
       "    .dataframe tbody tr th:only-of-type {\n",
       "        vertical-align: middle;\n",
       "    }\n",
       "\n",
       "    .dataframe tbody tr th {\n",
       "        vertical-align: top;\n",
       "    }\n",
       "\n",
       "    .dataframe thead th {\n",
       "        text-align: right;\n",
       "    }\n",
       "</style>\n",
       "<table border=\"1\" class=\"dataframe\">\n",
       "  <thead>\n",
       "    <tr style=\"text-align: right;\">\n",
       "      <th></th>\n",
       "      <th>Rating</th>\n",
       "      <th>Price</th>\n",
       "      <th>Skills</th>\n",
       "      <th>Weak Foot</th>\n",
       "      <th>Pace</th>\n",
       "      <th>Shooting</th>\n",
       "      <th>Passing</th>\n",
       "      <th>Dribbling</th>\n",
       "      <th>Defending</th>\n",
       "      <th>Physicality</th>\n",
       "      <th>...</th>\n",
       "      <th>Team_liverpool</th>\n",
       "      <th>Team_manchester city</th>\n",
       "      <th>Team_manchester utd</th>\n",
       "      <th>Team_milan</th>\n",
       "      <th>Team_napoli</th>\n",
       "      <th>Team_paris sg</th>\n",
       "      <th>Team_rb leipzig</th>\n",
       "      <th>Team_real madrid</th>\n",
       "      <th>Team_sevilla fc</th>\n",
       "      <th>Team_spurs</th>\n",
       "    </tr>\n",
       "  </thead>\n",
       "  <tbody>\n",
       "    <tr>\n",
       "      <th>0</th>\n",
       "      <td>79</td>\n",
       "      <td>11750.0</td>\n",
       "      <td>1</td>\n",
       "      <td>2</td>\n",
       "      <td>79</td>\n",
       "      <td>79</td>\n",
       "      <td>75</td>\n",
       "      <td>79</td>\n",
       "      <td>41</td>\n",
       "      <td>80</td>\n",
       "      <td>...</td>\n",
       "      <td>0.0</td>\n",
       "      <td>0.0</td>\n",
       "      <td>0.0</td>\n",
       "      <td>0.0</td>\n",
       "      <td>0.0</td>\n",
       "      <td>0.0</td>\n",
       "      <td>0.0</td>\n",
       "      <td>0.0</td>\n",
       "      <td>0.0</td>\n",
       "      <td>0.0</td>\n",
       "    </tr>\n",
       "    <tr>\n",
       "      <th>1</th>\n",
       "      <td>86</td>\n",
       "      <td>19750.0</td>\n",
       "      <td>3</td>\n",
       "      <td>3</td>\n",
       "      <td>70</td>\n",
       "      <td>87</td>\n",
       "      <td>76</td>\n",
       "      <td>82</td>\n",
       "      <td>38</td>\n",
       "      <td>81</td>\n",
       "      <td>...</td>\n",
       "      <td>0.0</td>\n",
       "      <td>0.0</td>\n",
       "      <td>0.0</td>\n",
       "      <td>0.0</td>\n",
       "      <td>0.0</td>\n",
       "      <td>0.0</td>\n",
       "      <td>0.0</td>\n",
       "      <td>0.0</td>\n",
       "      <td>0.0</td>\n",
       "      <td>0.0</td>\n",
       "    </tr>\n",
       "  </tbody>\n",
       "</table>\n",
       "<p>2 rows × 82 columns</p>\n",
       "</div>"
      ],
      "text/plain": [
       "   Rating    Price  Skills  Weak Foot  Pace  Shooting  Passing  Dribbling   \n",
       "0      79  11750.0       1          2    79        79       75         79  \\\n",
       "1      86  19750.0       3          3    70        87       76         82   \n",
       "\n",
       "   Defending  Physicality  ...  Team_liverpool  Team_manchester city   \n",
       "0         41           80  ...             0.0                   0.0  \\\n",
       "1         38           81  ...             0.0                   0.0   \n",
       "\n",
       "   Team_manchester utd  Team_milan  Team_napoli  Team_paris sg   \n",
       "0                  0.0         0.0          0.0            0.0  \\\n",
       "1                  0.0         0.0          0.0            0.0   \n",
       "\n",
       "   Team_rb leipzig  Team_real madrid  Team_sevilla fc  Team_spurs  \n",
       "0              0.0               0.0              0.0         0.0  \n",
       "1              0.0               0.0              0.0         0.0  \n",
       "\n",
       "[2 rows x 82 columns]"
      ]
     },
     "metadata": {},
     "output_type": "display_data"
    },
    {
     "data": {
      "text/html": [
       "<div>\n",
       "<style scoped>\n",
       "    .dataframe tbody tr th:only-of-type {\n",
       "        vertical-align: middle;\n",
       "    }\n",
       "\n",
       "    .dataframe tbody tr th {\n",
       "        vertical-align: top;\n",
       "    }\n",
       "\n",
       "    .dataframe thead th {\n",
       "        text-align: right;\n",
       "    }\n",
       "</style>\n",
       "<table border=\"1\" class=\"dataframe\">\n",
       "  <thead>\n",
       "    <tr style=\"text-align: right;\">\n",
       "      <th></th>\n",
       "      <th>Rating</th>\n",
       "      <th>Price</th>\n",
       "      <th>Skills</th>\n",
       "      <th>Weak Foot</th>\n",
       "      <th>Pace</th>\n",
       "      <th>Shooting</th>\n",
       "      <th>Passing</th>\n",
       "      <th>Dribbling</th>\n",
       "      <th>Defending</th>\n",
       "      <th>Physicality</th>\n",
       "      <th>...</th>\n",
       "      <th>Team_liverpool</th>\n",
       "      <th>Team_manchester city</th>\n",
       "      <th>Team_manchester utd</th>\n",
       "      <th>Team_milan</th>\n",
       "      <th>Team_napoli</th>\n",
       "      <th>Team_paris sg</th>\n",
       "      <th>Team_rb leipzig</th>\n",
       "      <th>Team_real madrid</th>\n",
       "      <th>Team_sevilla fc</th>\n",
       "      <th>Team_spurs</th>\n",
       "    </tr>\n",
       "  </thead>\n",
       "  <tbody>\n",
       "    <tr>\n",
       "      <th>0</th>\n",
       "      <td>90</td>\n",
       "      <td>120000.0</td>\n",
       "      <td>1</td>\n",
       "      <td>3</td>\n",
       "      <td>88</td>\n",
       "      <td>87</td>\n",
       "      <td>80</td>\n",
       "      <td>90</td>\n",
       "      <td>53</td>\n",
       "      <td>91</td>\n",
       "      <td>...</td>\n",
       "      <td>0.0</td>\n",
       "      <td>0.0</td>\n",
       "      <td>0.0</td>\n",
       "      <td>0.0</td>\n",
       "      <td>0.0</td>\n",
       "      <td>0.0</td>\n",
       "      <td>0.0</td>\n",
       "      <td>0.0</td>\n",
       "      <td>0.0</td>\n",
       "      <td>0.0</td>\n",
       "    </tr>\n",
       "    <tr>\n",
       "      <th>1</th>\n",
       "      <td>87</td>\n",
       "      <td>26500.0</td>\n",
       "      <td>4</td>\n",
       "      <td>3</td>\n",
       "      <td>80</td>\n",
       "      <td>80</td>\n",
       "      <td>87</td>\n",
       "      <td>90</td>\n",
       "      <td>49</td>\n",
       "      <td>72</td>\n",
       "      <td>...</td>\n",
       "      <td>0.0</td>\n",
       "      <td>1.0</td>\n",
       "      <td>0.0</td>\n",
       "      <td>0.0</td>\n",
       "      <td>0.0</td>\n",
       "      <td>0.0</td>\n",
       "      <td>0.0</td>\n",
       "      <td>0.0</td>\n",
       "      <td>0.0</td>\n",
       "      <td>0.0</td>\n",
       "    </tr>\n",
       "  </tbody>\n",
       "</table>\n",
       "<p>2 rows × 82 columns</p>\n",
       "</div>"
      ],
      "text/plain": [
       "   Rating     Price  Skills  Weak Foot  Pace  Shooting  Passing  Dribbling   \n",
       "0      90  120000.0       1          3    88        87       80         90  \\\n",
       "1      87   26500.0       4          3    80        80       87         90   \n",
       "\n",
       "   Defending  Physicality  ...  Team_liverpool  Team_manchester city   \n",
       "0         53           91  ...             0.0                   0.0  \\\n",
       "1         49           72  ...             0.0                   1.0   \n",
       "\n",
       "   Team_manchester utd  Team_milan  Team_napoli  Team_paris sg   \n",
       "0                  0.0         0.0          0.0            0.0  \\\n",
       "1                  0.0         0.0          0.0            0.0   \n",
       "\n",
       "   Team_rb leipzig  Team_real madrid  Team_sevilla fc  Team_spurs  \n",
       "0              0.0               0.0              0.0         0.0  \n",
       "1              0.0               0.0              0.0         0.0  \n",
       "\n",
       "[2 rows x 82 columns]"
      ]
     },
     "metadata": {},
     "output_type": "display_data"
    }
   ],
   "source": [
    "# OHE Team column\n",
    "df_train, df_test = add_ohe_columns(df_train, df_test, 'Team')\n",
    "\n",
    "# Check to see columns have successfully been encoded\n",
    "display(df_train.head(2))\n",
    "display(df_test.head(2))"
   ]
  },
  {
   "cell_type": "code",
   "execution_count": null,
   "metadata": {},
   "outputs": [],
   "source": [
    "# Overwrite saved files\n",
    "df_train.to_csv(r'datasets\\train_dataset.csv', index=False)\n",
    "df_test.to_csv(r'datasets\\test_dataset.csv', index=False)"
   ]
  },
  {
   "cell_type": "markdown",
   "metadata": {},
   "source": [
    "### Analysis of numerical features"
   ]
  },
  {
   "cell_type": "code",
   "execution_count": null,
   "metadata": {},
   "outputs": [],
   "source": [
    "# Load dataframes\n",
    "df_train = pd.read_csv(r'datasets\\train_dataset.csv')\n",
    "df_test = pd.read_csv(r'datasets\\test_dataset.csv')"
   ]
  },
  {
   "cell_type": "code",
   "execution_count": null,
   "metadata": {},
   "outputs": [
    {
     "data": {
      "text/html": [
       "<div>\n",
       "<style scoped>\n",
       "    .dataframe tbody tr th:only-of-type {\n",
       "        vertical-align: middle;\n",
       "    }\n",
       "\n",
       "    .dataframe tbody tr th {\n",
       "        vertical-align: top;\n",
       "    }\n",
       "\n",
       "    .dataframe thead th {\n",
       "        text-align: right;\n",
       "    }\n",
       "</style>\n",
       "<table border=\"1\" class=\"dataframe\">\n",
       "  <thead>\n",
       "    <tr style=\"text-align: right;\">\n",
       "      <th></th>\n",
       "      <th>Rating</th>\n",
       "      <th>Price</th>\n",
       "      <th>Skills</th>\n",
       "      <th>Weak Foot</th>\n",
       "      <th>Pace</th>\n",
       "      <th>Shooting</th>\n",
       "      <th>Passing</th>\n",
       "      <th>Dribbling</th>\n",
       "      <th>Defending</th>\n",
       "      <th>Physicality</th>\n",
       "      <th>Popularity</th>\n",
       "      <th>Base Stats</th>\n",
       "      <th>In Game Stats</th>\n",
       "      <th>Height (cm)</th>\n",
       "      <th>Weight (kg)</th>\n",
       "    </tr>\n",
       "  </thead>\n",
       "  <tbody>\n",
       "    <tr>\n",
       "      <th>0</th>\n",
       "      <td>79</td>\n",
       "      <td>11750.0</td>\n",
       "      <td>1</td>\n",
       "      <td>2</td>\n",
       "      <td>79</td>\n",
       "      <td>79</td>\n",
       "      <td>75</td>\n",
       "      <td>79</td>\n",
       "      <td>41</td>\n",
       "      <td>80</td>\n",
       "      <td>21</td>\n",
       "      <td>433</td>\n",
       "      <td>802</td>\n",
       "      <td>193.0</td>\n",
       "      <td>72.794708</td>\n",
       "    </tr>\n",
       "    <tr>\n",
       "      <th>1</th>\n",
       "      <td>86</td>\n",
       "      <td>19750.0</td>\n",
       "      <td>3</td>\n",
       "      <td>3</td>\n",
       "      <td>70</td>\n",
       "      <td>87</td>\n",
       "      <td>76</td>\n",
       "      <td>82</td>\n",
       "      <td>38</td>\n",
       "      <td>81</td>\n",
       "      <td>46</td>\n",
       "      <td>434</td>\n",
       "      <td>2091</td>\n",
       "      <td>192.0</td>\n",
       "      <td>72.794708</td>\n",
       "    </tr>\n",
       "    <tr>\n",
       "      <th>2</th>\n",
       "      <td>81</td>\n",
       "      <td>16250.0</td>\n",
       "      <td>1</td>\n",
       "      <td>4</td>\n",
       "      <td>80</td>\n",
       "      <td>83</td>\n",
       "      <td>88</td>\n",
       "      <td>83</td>\n",
       "      <td>49</td>\n",
       "      <td>82</td>\n",
       "      <td>106</td>\n",
       "      <td>465</td>\n",
       "      <td>976</td>\n",
       "      <td>187.0</td>\n",
       "      <td>72.794708</td>\n",
       "    </tr>\n",
       "    <tr>\n",
       "      <th>3</th>\n",
       "      <td>83</td>\n",
       "      <td>11000.0</td>\n",
       "      <td>4</td>\n",
       "      <td>3</td>\n",
       "      <td>95</td>\n",
       "      <td>75</td>\n",
       "      <td>76</td>\n",
       "      <td>88</td>\n",
       "      <td>35</td>\n",
       "      <td>74</td>\n",
       "      <td>66</td>\n",
       "      <td>443</td>\n",
       "      <td>2057</td>\n",
       "      <td>171.0</td>\n",
       "      <td>60.000000</td>\n",
       "    </tr>\n",
       "    <tr>\n",
       "      <th>4</th>\n",
       "      <td>93</td>\n",
       "      <td>670000.0</td>\n",
       "      <td>4</td>\n",
       "      <td>4</td>\n",
       "      <td>94</td>\n",
       "      <td>91</td>\n",
       "      <td>83</td>\n",
       "      <td>90</td>\n",
       "      <td>53</td>\n",
       "      <td>80</td>\n",
       "      <td>1240</td>\n",
       "      <td>491</td>\n",
       "      <td>2332</td>\n",
       "      <td>188.0</td>\n",
       "      <td>72.794708</td>\n",
       "    </tr>\n",
       "  </tbody>\n",
       "</table>\n",
       "</div>"
      ],
      "text/plain": [
       "   Rating     Price  Skills  Weak Foot  Pace  Shooting  Passing  Dribbling   \n",
       "0      79   11750.0       1          2    79        79       75         79  \\\n",
       "1      86   19750.0       3          3    70        87       76         82   \n",
       "2      81   16250.0       1          4    80        83       88         83   \n",
       "3      83   11000.0       4          3    95        75       76         88   \n",
       "4      93  670000.0       4          4    94        91       83         90   \n",
       "\n",
       "   Defending  Physicality  Popularity  Base Stats  In Game Stats  Height (cm)   \n",
       "0         41           80          21         433            802        193.0  \\\n",
       "1         38           81          46         434           2091        192.0   \n",
       "2         49           82         106         465            976        187.0   \n",
       "3         35           74          66         443           2057        171.0   \n",
       "4         53           80        1240         491           2332        188.0   \n",
       "\n",
       "   Weight (kg)  \n",
       "0    72.794708  \n",
       "1    72.794708  \n",
       "2    72.794708  \n",
       "3    60.000000  \n",
       "4    72.794708  "
      ]
     },
     "metadata": {},
     "output_type": "display_data"
    }
   ],
   "source": [
    "# Retrieve the position column names\n",
    "pos_df = pd.read_csv(r'datasets\\unique_positions.csv')\n",
    "unique_positions = list(pos_df['0'].values)\n",
    "\n",
    "encoded_cols = [col for col in df_train.columns if '_' in col]\n",
    "\n",
    "# We can create a new dataframe that drops our encoded features\n",
    "num_df_train = df_train.select_dtypes(exclude='bool').drop(encoded_cols + unique_positions, axis=1)\n",
    "num_df_test = df_test.select_dtypes(exclude='bool').drop(encoded_cols + unique_positions, axis=1)\n",
    "\n",
    "num_df_train.head()"
   ]
  },
  {
   "cell_type": "markdown",
   "metadata": {},
   "source": [
    "We'll first look at the distributions of the features to spot anything of note:"
   ]
  },
  {
   "cell_type": "code",
   "execution_count": null,
   "metadata": {},
   "outputs": [
    {
     "data": {
      "image/png": "[encoded data removed]",
      "text/plain": [
       "<Figure size 1200x1200 with 16 Axes>"
      ]
     },
     "metadata": {},
     "output_type": "display_data"
    }
   ],
   "source": [
    "fig, ax = plt.subplots(figsize = (12,12))\n",
    "\n",
    "num_df_train.hist(ax=ax);"
   ]
  },
  {
   "cell_type": "markdown",
   "metadata": {},
   "source": [
    "We can see that many of our features are heavily skewed so we will need to fix this. There seems to be an issue with the Weight column containing small values which we will look into:  We also know that popularity should be our only feature with negative values, and this appears to be the case above which is good, but we can check for sure:"
   ]
  },
  {
   "cell_type": "code",
   "execution_count": null,
   "metadata": {},
   "outputs": [
    {
     "name": "stdout",
     "output_type": "stream",
     "text": [
      "Minimum weight value (Train): 0.0\n",
      "Minimum weight value (Test): 59.0\n"
     ]
    }
   ],
   "source": [
    "# Show minimum weight value\n",
    "print('Minimum weight value (Train):', num_df_train['Weight (kg)'].min())\n",
    "print('Minimum weight value (Test):', num_df_test['Weight (kg)'].min())"
   ]
  },
  {
   "cell_type": "markdown",
   "metadata": {},
   "source": [
    "This is clearly an error so we can replace with the mean:"
   ]
  },
  {
   "cell_type": "code",
   "execution_count": null,
   "metadata": {},
   "outputs": [
    {
     "name": "stdout",
     "output_type": "stream",
     "text": [
      "Minimum weight value: 58.0\n"
     ]
    }
   ],
   "source": [
    "# Replace zero values with the mean:\n",
    "num_df_train['Weight (kg)'] = num_df_train['Weight (kg)'].replace({0: num_df_train['Weight (kg)'].mean()})\n",
    "\n",
    "# Show new minimum weight value\n",
    "print('Minimum weight value:', num_df_train['Weight (kg)'].min())"
   ]
  },
  {
   "cell_type": "markdown",
   "metadata": {},
   "source": [
    "This new minimum seems more logical. We can also sense check the max Weight as well as the min and max Heights:"
   ]
  },
  {
   "cell_type": "code",
   "execution_count": null,
   "metadata": {},
   "outputs": [
    {
     "name": "stdout",
     "output_type": "stream",
     "text": [
      "Maximum weight value (Train): 102.0\n",
      "Maximum weight value (Test): 94.0\n",
      "\n",
      "\n",
      "Minimum height value (Train): 163.0\n",
      "Minimum height value (Test): 166.0\n",
      "\n",
      "\n",
      "Maximum height value (Train): 204.0\n",
      "Maximum height value (Test): 201.0\n",
      "\n",
      "\n"
     ]
    }
   ],
   "source": [
    "# Show maximum weight values\n",
    "print('Maximum weight value (Train):', num_df_train['Weight (kg)'].max())\n",
    "print('Maximum weight value (Test):', num_df_test['Weight (kg)'].max())\n",
    "print('\\n')\n",
    "\n",
    "# Show minimum height values\n",
    "print('Minimum height value (Train):', num_df_train['Height (cm)'].min())\n",
    "print('Minimum height value (Test):', num_df_test['Height (cm)'].min())\n",
    "print('\\n')\n",
    "\n",
    "# Show maximum height values\n",
    "print('Maximum height value (Train):', num_df_train['Height (cm)'].max())\n",
    "print('Maximum height value (Test):', num_df_test['Height (cm)'].max())\n",
    "print('\\n')"
   ]
  },
  {
   "cell_type": "markdown",
   "metadata": {},
   "source": [
    "We also know that many of these features must be capped at 100, so we will make sure none of the features with values over 100 are the ones that should be capped: "
   ]
  },
  {
   "cell_type": "code",
   "execution_count": null,
   "metadata": {},
   "outputs": [
    {
     "name": "stdout",
     "output_type": "stream",
     "text": [
      "Columns with values over 100 (Train): ['Price', 'Popularity', 'Base Stats', 'In Game Stats', 'Height (cm)', 'Weight (kg)']\n",
      "Columns with values over 100 (Test): ['Price', 'Popularity', 'Base Stats', 'In Game Stats', 'Height (cm)']\n"
     ]
    }
   ],
   "source": [
    "# Get a list of all columns with values over 100:\n",
    "over100_cols_train = num_df_train.columns[(num_df_train > 100).any()].to_list()\n",
    "over100_cols_test = num_df_test.columns[(num_df_test > 100).any()].to_list()\n",
    "\n",
    "print('Columns with values over 100 (Train):', over100_cols_train)\n",
    "print('Columns with values over 100 (Test):', over100_cols_test)"
   ]
  },
  {
   "cell_type": "markdown",
   "metadata": {},
   "source": [
    "The above columns are all fine to have values over 100 so there is no issue there."
   ]
  },
  {
   "cell_type": "markdown",
   "metadata": {},
   "source": [
    "We will now look into the Popularity feature which we can see has most of the values concentrated around 0:"
   ]
  },
  {
   "cell_type": "code",
   "execution_count": null,
   "metadata": {},
   "outputs": [
    {
     "data": {
      "image/png": "[encoded data removed]",
      "text/plain": [
       "<Figure size 640x480 with 1 Axes>"
      ]
     },
     "metadata": {},
     "output_type": "display_data"
    }
   ],
   "source": [
    "plt.boxplot(num_df_train.Popularity);"
   ]
  },
  {
   "cell_type": "markdown",
   "metadata": {},
   "source": [
    "Therefore, for this feature it may be best to split it into bins:"
   ]
  },
  {
   "cell_type": "code",
   "execution_count": null,
   "metadata": {},
   "outputs": [],
   "source": [
    "# Define the bin edges\n",
    "bin_edges = [-float('inf'), -1000, -100, -10, 0, 10, 100, 1000, float('inf')]\n",
    "\n",
    "# Bin the 'Popularity' column using the cut method\n",
    "num_df_train['Popularity'] = pd.cut(num_df_train['Popularity'], bins=bin_edges, labels=[1,2,3,4,5,6,7,8])\n",
    "num_df_test['Popularity'] = pd.cut(num_df_test['Popularity'], bins=bin_edges, labels=[1,2,3,4,5,6,7,8])\n",
    "\n",
    "# Convert to integers\n",
    "num_df_train['Popularity'] = num_df_train['Popularity'].astype('int')\n",
    "num_df_test['Popularity'] = num_df_test['Popularity'].astype('int')"
   ]
  },
  {
   "cell_type": "markdown",
   "metadata": {},
   "source": [
    "We now look into transforming all skewed columns:"
   ]
  },
  {
   "cell_type": "code",
   "execution_count": null,
   "metadata": {},
   "outputs": [
    {
     "name": "stdout",
     "output_type": "stream",
     "text": [
      "Price            5.922970\n",
      "Weight (kg)      1.044725\n",
      "Height (cm)      0.105181\n",
      "Defending        0.074959\n",
      "Weak Foot       -0.021454\n",
      "Skills          -0.405772\n",
      "Physicality     -0.797045\n",
      "Passing         -1.143437\n",
      "Shooting        -1.395138\n",
      "Pace            -1.413325\n",
      "Base Stats      -1.420017\n",
      "Dribbling       -1.497740\n",
      "Popularity      -1.931044\n",
      "Rating          -2.378422\n",
      "In Game Stats   -2.683087\n",
      "dtype: float64\n"
     ]
    }
   ],
   "source": [
    "# We can view the skew values for each feature\n",
    "skew_vals = num_df_train.skew().sort_values(ascending=False)\n",
    "print(skew_vals)"
   ]
  },
  {
   "cell_type": "code",
   "execution_count": null,
   "metadata": {},
   "outputs": [
    {
     "name": "stdout",
     "output_type": "stream",
     "text": [
      "['Price', 'Weight (kg)', 'Physicality', 'Passing', 'Shooting', 'Pace', 'Base Stats', 'Dribbling', 'Popularity', 'Rating', 'In Game Stats']\n"
     ]
    }
   ],
   "source": [
    "# We define a skew limit \n",
    "skew_limit = 0.75\n",
    "\n",
    "# We get a list of all the columns with a skew value over this limit\n",
    "skew_cols = skew_vals[abs(skew_vals) > skew_limit].index.to_list()\n",
    "print(skew_cols)"
   ]
  },
  {
   "cell_type": "markdown",
   "metadata": {},
   "source": [
    "We can then apply a BoxCox transformation to each skewed feature over this limit. However we will first have to add a constant onto Popularity to ensure the values are all positive:"
   ]
  },
  {
   "cell_type": "code",
   "execution_count": null,
   "metadata": {},
   "outputs": [],
   "source": [
    "# Box-Cox transform the features:\n",
    "for feature in skew_cols:\n",
    "    if feature == 'Price':\n",
    "        continue\n",
    "\n",
    "    # apply Box-Cox transformation to training set\n",
    "    transformed_train, lam = boxcox(num_df_train[feature])\n",
    "    num_df_train[feature] = pd.Series(transformed_train)\n",
    "    \n",
    "    # apply same transformation to test set\n",
    "    transformed_test = boxcox(num_df_test[feature], lmbda=lam)\n",
    "    num_df_test[feature] = pd.Series(transformed_test)"
   ]
  },
  {
   "cell_type": "code",
   "execution_count": null,
   "metadata": {},
   "outputs": [
    {
     "name": "stdout",
     "output_type": "stream",
     "text": [
      "Price            5.922970\n",
      "Height (cm)      0.105181\n",
      "Rating           0.088374\n",
      "Defending        0.074959\n",
      "Base Stats       0.053054\n",
      "Weak Foot       -0.021454\n",
      "Passing         -0.047922\n",
      "Pace            -0.064779\n",
      "Physicality     -0.077808\n",
      "Dribbling       -0.079239\n",
      "Weight (kg)     -0.079872\n",
      "In Game Stats   -0.315217\n",
      "Shooting        -0.339838\n",
      "Skills          -0.405772\n",
      "Popularity      -0.564810\n",
      "dtype: float64\n"
     ]
    }
   ],
   "source": [
    "# Check the updated skew values\n",
    "skew_vals = num_df_train.skew().sort_values(ascending=False)\n",
    "print(skew_vals)"
   ]
  },
  {
   "cell_type": "markdown",
   "metadata": {},
   "source": [
    "Now that we're happy with our numerical data, we can replace all values in the original dataframe with the updated values:"
   ]
  },
  {
   "cell_type": "code",
   "execution_count": null,
   "metadata": {},
   "outputs": [],
   "source": [
    "# Get a list of numerical column names\n",
    "num_cols = num_df_train.columns.to_list()\n",
    "\n",
    "# Replace columns in orginal dataframes with updated columns\n",
    "df_train[num_cols] = num_df_train\n",
    "df_test[num_cols] = num_df_test"
   ]
  },
  {
   "cell_type": "code",
   "execution_count": null,
   "metadata": {},
   "outputs": [],
   "source": [
    "# Overwrite saved datasets\n",
    "df_train.to_csv(r'datasets\\train_dataset.csv', index=False)\n",
    "df_test.to_csv(r'datasets\\test_dataset.csv', index=False)"
   ]
  },
  {
   "cell_type": "markdown",
   "metadata": {},
   "source": [
    "Although we have significantly reduced our dataset, we should still have enough data to create a model, and this model should now perform better on higher-valued players. "
   ]
  }
 ],
 "metadata": {
  "language_info": {
   "name": "python"
  },
  "orig_nbformat": 4
 },
 "nbformat": 4,
 "nbformat_minor": 2
}
