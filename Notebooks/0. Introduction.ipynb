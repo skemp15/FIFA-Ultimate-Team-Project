{
 "cells": [
  {
   "attachments": {},
   "cell_type": "markdown",
   "metadata": {},
   "source": [
    "# Predicting FIFA 23 Ultimate Team Player Card Values: A Machine Learning Approach"
   ]
  },
  {
   "cell_type": "markdown",
   "metadata": {},
   "source": [
    "FIFA 23 is the latest version of the football video game series, developed by EA Sports. Ultimate Team is a popular game mode in the FIFA series, including FIFA 23, that allows players to create and manage their own football team using virtual player cards. The game mode is built around the concept of collecting and trading player cards, which represent real-world football players from different teams and leagues around the world. Players can use these cards to build their own custom teams, and compete against other players in online matches or tournaments.\n",
    "\n",
    "In the FIFA 23 Ultimate Team Players Database, the \"price\" feature represents the current market price of a player card in the game's marketplace. The price is determined by a number of factors, including the player's real-world performance, rarity, popularity, and demand from other players. The price feature can be useful for players who want to buy or sell player cards strategically in order to build the strongest possible Ultimate Team.\n",
    "\n",
    "In this portfolio notebook, I will demonstrate my skills in web scraping, data cleaning, and machine learning by building predictive models to estimate the market value of soccer player cards in FIFA 23's Ultimate Team mode. To do this, I will use web scraping techniques to extract player data from FUTBIN, a popular website for players of the game. I will then clean and preprocess the data to prepare it for modeling, using techniques such as data imputation, normalization, and feature selection. Finally, I will build and evaluate a range of machine learning models, including regression models, decision trees, and random forests, to predict the market value of different player cards based on their attributes and performance statistics."
   ]
  }
 ],
 "metadata": {
  "kernelspec": {
   "display_name": "Python 3",
   "language": "python",
   "name": "python3"
  },
  "language_info": {
   "codemirror_mode": {
    "name": "ipython",
    "version": 3
   },
   "file_extension": ".py",
   "mimetype": "text/x-python",
   "name": "python",
   "nbconvert_exporter": "python",
   "pygments_lexer": "ipython3",
   "version": "3.11.3"
  },
  "orig_nbformat": 4
 },
 "nbformat": 4,
 "nbformat_minor": 2
}
